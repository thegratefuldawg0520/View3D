{
 "cells": [
  {
   "cell_type": "markdown",
   "metadata": {},
   "source": [
    "# Plotting the SIFT keypoint detector and feature descriptor error function\n",
    "This document contains an experiment in which different keypoint detector and feature descriptor combinations are used to detect and uniquely describe common points of interest in image pairs. The goal of this experiment is to explore the effects that varying the values of the different input parameters of the detector/descriptors have on the frequency of inlier matches when computing a 3D relationship between images based upon epipolar geometry."
   ]
  },
  {
   "cell_type": "markdown",
   "metadata": {},
   "source": [
    "## Hypothesis\n",
    "\n",
    "There exists an optimal set of descriptor/detector parameters that can minimize the number of outlier match pairs computer over a set of images."
   ]
  },
  {
   "cell_type": "markdown",
   "metadata": {},
   "source": [
    "## Experimental Design\n",
    "1. Select three image sets:\n",
    "    1. Nadir Facing Projective Camera.\n",
    "    2. Nadir Facing Fisheye Camera.\n",
    "    3. Oblique Camera.\n",
    "3. Define a bound and a step size for the different parameters.\n",
    "4. Load the images and initialize the Descriptor/Detector to the openCV initial values.\n",
    "5. For each image in the image set compute the keypoints and descriptors.\n",
    "6. For each pair of consecutive images, match corresponding keypoints.\n",
    "7. Estimate the fundamental matrix between the image pair and compute the inliers and outliers for the image pair.\n",
    "8. Sum the the number of inliers, outliers and total computed matches for the entire sequence.\n",
    "9. Select one parameter and vary it by the step size.\n",
    "10. Repeat steps 5 - 9 while varying the selected parameter until it reaches the bounds.\n",
    "11. Reset the parameter to its initial value.\n",
    "12. Select a new parameter to vary and repeat 10.\n",
    "13. Perform 3 - 12 for each image type.\n",
    "\n",
    "This experiment will result in a function for each parameter that corresponds to its behaviour about the point corresponding to the openCV initial values.\n",
    "    \n",
    "    "
   ]
  },
  {
   "cell_type": "markdown",
   "metadata": {},
   "source": [
    "## Experiment\n",
    "To begin we import the necessary python packages including the custom built image processing modules"
   ]
  },
  {
   "cell_type": "code",
   "execution_count": 1,
   "metadata": {
    "collapsed": false,
    "scrolled": true
   },
   "outputs": [],
   "source": [
    "%matplotlib inline\n",
    "import image as im\n",
    "import matching as mt\n",
    "import imageUtility as ut\n",
    "import transforms as tn\n",
    "import numpy as np\n",
    "import matplotlib.pyplot as plt"
   ]
  },
  {
   "cell_type": "markdown",
   "metadata": {},
   "source": [
    "### Select three image sets\n",
    "The following three image datasets are used:\n",
    "* __Nadir Facing Perspective Camera:__ Glacier images from the Sensefly eBee RTK\n",
    "* __Nadir Facing Fisheye Camera:__ Images of the Quatre Fourches River in Wood Buffalo National Park, Alberta, Canada\n",
    "* __Oblique Perspective Camera:__ Images of an office space\n",
    "\n",
    "In this experiment we operate on the raw, unprojected images. Therefore we do not account for any lense distortion nor the internal imaging geometry.\n",
    "\n",
    "### Define a bound and a step size for the different parameters\n",
    "In this experiment we will explore the following parameters:\n",
    "\n",
    "| Parameter | Description | Initial Value | Step Size | Bounds |\n",
    "| --- | --- | --- | --- | --- |\n",
    "|# Features | _desc_ | 10000| 0 | - |\n",
    "|# Octave Layers | _desc_ | 3| 1 | 1 - 5 |\n",
    "|Contrast Threshold | _desc_ | 0.04| 0.01 | 0.01 - 0.08 |\n",
    "|Edge Threshold | _desc_ | 10| 1 | 5 - 15 |\n",
    "|Sigma | _desc_ | 1.6 | 0.1 | 1.0 - 2.0 | \n",
    "\n"
   ]
  },
  {
   "cell_type": "code",
   "execution_count": 8,
   "metadata": {
    "collapsed": false,
    "scrolled": true
   },
   "outputs": [],
   "source": [
    "nOctaves=4\n",
    "nOctaveLayers=2\n",
    "\n",
    "imgDir = {'glacier':{'dir':'/home/doopy/Documents/View3D/View3D_0_1/exp1/glacier/','ext':'.JPG'},\n",
    "            'wbnp':{'dir':'/home/doopy/Documents/View3D/View3D_0_1/exp1/wbnp/','ext':'.JPG'},\n",
    "            'desk':{'dir':'/home/doopy/Documents/View3D/View3D_0_1/exp1/desk/','ext':'.png'}\n",
    "           }\n",
    "\n",
    "imgRange = range(1,10)\n",
    "\n",
    "imageParams = {'scale':0.15,\n",
    "          'kp':'surf',\n",
    "          'nOctaves':nOctaves,\n",
    "          'nOctaveLayers':nOctaveLayers\n",
    "         }\n",
    "\n",
    "params = {'nOctaveLayers':{'step':1,'iv':1,'bdy':9},\n",
    "          'nOctaves':{'step':1,'iv':1,'bdy':9}\n",
    "         }\n"
   ]
  },
  {
   "cell_type": "markdown",
   "metadata": {
    "collapsed": true
   },
   "source": [
    "### Open Images and Initialize the Descriptor/Detector to the openCV initial values\n",
    "A custom function is created, using the image class, which creates an image object for each image in the image set, and compute the keypoints and feature descriptors corresponding to the default openCV values"
   ]
  },
  {
   "cell_type": "code",
   "execution_count": 3,
   "metadata": {
    "collapsed": false,
    "scrolled": true
   },
   "outputs": [],
   "source": [
    "def openImages(imgRange,imgDir,imgParams,imgSet):\n",
    "    \n",
    "    images = []\n",
    "\n",
    "\n",
    "    for i in imgRange:\n",
    "        \n",
    "        images.append(im.image(imgDir[imgSet]['dir'] + str(i) + imgDir[imgSet]['ext'],imgParams))\n",
    "        \n",
    "    return images\n",
    "    "
   ]
  },
  {
   "cell_type": "markdown",
   "metadata": {},
   "source": [
    "### Plot Results\n",
    "A custom function is created, using pyplot, which creates a line plots for each parameter variation. The x-axis corresponds to the parameter value, and the y axis correponds to the number of matches. Two curves are plotted:\n",
    "1. total number of matches.\n",
    "2. number of outlier matches."
   ]
  },
  {
   "cell_type": "code",
   "execution_count": 4,
   "metadata": {
    "collapsed": false
   },
   "outputs": [],
   "source": [
    "def plotResults(results):\n",
    "    \n",
    "    plt.figure(1,figsize=(12,12))\n",
    "    i = 0\n",
    "    \n",
    "    for param in results.keys():\n",
    "        \n",
    "        values = np.array(results[param]['value'])\n",
    "        inlier = np.array(results[param]['inlierCount'])\n",
    "        outlier = np.array(results[param]['outlierCount'])\n",
    "        \n",
    "        spVal = 221+i\n",
    "        \n",
    "        plt.subplot(spVal)\n",
    "        plt.plot(values,outlier,label='outlier')\n",
    "        plt.plot(values,outlier+inlier,label='total matches')\n",
    "        plt.legend()\n",
    "        plt.title(param)\n",
    "\n",
    "        i+=1\n",
    "        \n",
    "    plt.subplots_adjust(left=0.10, right=0.95, hspace=0.8, wspace=0.8)"
   ]
  },
  {
   "cell_type": "markdown",
   "metadata": {},
   "source": [
    "### Experiment\n",
    "A custom function is created to generate the experimental results. The function can be applied to any keypoint detector and descriptor pair available in the image and matching toolbox."
   ]
  },
  {
   "cell_type": "code",
   "execution_count": 5,
   "metadata": {
    "collapsed": true
   },
   "outputs": [],
   "source": [
    "def computeExperiment(imageSet,params,imageParams):\n",
    "    \n",
    "    results = {}\n",
    "        \n",
    "    for parameter in params.keys():\n",
    "\n",
    "        print '*********** ' + parameter + ' ************'\n",
    "        \n",
    "        results[parameter] = {'value':[],'inlierCount':[],'outlierCount':[]}\n",
    "        \n",
    "        imgParams = {key: value for key, value in imageParams.items()}\n",
    "        \n",
    "        imgParams[parameter] = params[parameter]['iv']\n",
    "        print imgParams\n",
    "        \n",
    "        for j in np.arange(imgParams[parameter],params[parameter]['bdy'],params[parameter]['step']):\n",
    "\n",
    "            imgParams[parameter] = j\n",
    "\n",
    "            print '*********** ' + str(j) + ' ***********'\n",
    "\n",
    "            for img in imageSet:\n",
    "\n",
    "                img.computeKP(imgParams)\n",
    "\n",
    "            img1 = imageSet[0]\n",
    "            inlierSum = 0\n",
    "            outlierSum = 0\n",
    "\n",
    "            for img2 in imageSet[1:]:\n",
    "\n",
    "                F = tn.fundamental(img1,img2,imgParams)\n",
    "\n",
    "                inlierSum += F.inlierCount()\n",
    "                outlierSum += F.outlierCount()\n",
    "\n",
    "                img1 = img2   \n",
    "\n",
    "            results[parameter]['value'].append(imgParams[parameter])\n",
    "            results[parameter]['inlierCount'].append(inlierSum)\n",
    "            results[parameter]['outlierCount'].append(outlierSum)\n",
    "            \n",
    "    return results\n",
    "        "
   ]
  },
  {
   "cell_type": "markdown",
   "metadata": {},
   "source": [
    "## Glacier Images\n",
    "_Open and initialize the images_"
   ]
  },
  {
   "cell_type": "code",
   "execution_count": 6,
   "metadata": {
    "collapsed": false
   },
   "outputs": [],
   "source": [
    "imgSet = openImages(imgRange,imgDir,imageParams,'glacier')"
   ]
  },
  {
   "cell_type": "markdown",
   "metadata": {},
   "source": [
    "_Compute the experiment._"
   ]
  },
  {
   "cell_type": "code",
   "execution_count": 9,
   "metadata": {
    "collapsed": false
   },
   "outputs": [
    {
     "name": "stdout",
     "output_type": "stream",
     "text": [
      "*********** nOctaveLayers ************\n",
      "{'kp': 'surf', 'scale': 0.15, 'nOctaveLayers': 1, 'nOctaves': 4}\n",
      "*********** 1 ***********\n",
      "*********** 2 ***********\n",
      "*********** 3 ***********\n",
      "*********** 4 ***********\n",
      "*********** 5 ***********\n",
      "*********** 6 ***********\n",
      "*********** 7 ***********\n",
      "*********** 8 ***********\n",
      "*********** nOctaves ************\n",
      "{'kp': 'surf', 'scale': 0.15, 'nOctaveLayers': 2, 'nOctaves': 1}\n",
      "*********** 1 ***********\n",
      "*********** 2 ***********\n",
      "*********** 3 ***********\n",
      "*********** 4 ***********\n",
      "*********** 5 ***********\n",
      "*********** 6 ***********\n",
      "*********** 7 ***********\n",
      "*********** 8 ***********\n"
     ]
    },
    {
     "data": {
      "text/plain": [
       "{'kp': 'surf', 'nOctaveLayers': 2, 'nOctaves': 4, 'scale': 0.15}"
      ]
     },
     "execution_count": 9,
     "metadata": {},
     "output_type": "execute_result"
    }
   ],
   "source": [
    "results = computeExperiment(imgSet,params,imageParams)\n",
    "imageParams"
   ]
  },
  {
   "cell_type": "markdown",
   "metadata": {},
   "source": [
    "_Plot the results_"
   ]
  },
  {
   "cell_type": "code",
   "execution_count": 10,
   "metadata": {
    "collapsed": false
   },
   "outputs": [
    {
     "data": {
      "image/png": "[encoded data removed]",
      "text/plain": [
       "<matplotlib.figure.Figure at 0x7fcec6b0a2d0>"
      ]
     },
     "metadata": {},
     "output_type": "display_data"
    }
   ],
   "source": [
    "plotResults(results)"
   ]
  },
  {
   "cell_type": "markdown",
   "metadata": {},
   "source": [
    "_Display results_"
   ]
  },
  {
   "cell_type": "code",
   "execution_count": 11,
   "metadata": {
    "collapsed": false
   },
   "outputs": [
    {
     "data": {
      "text/plain": [
       "{'nOctaveLayers': {'inlierCount': [4069,\n",
       "   6759,\n",
       "   7762,\n",
       "   8403,\n",
       "   8995,\n",
       "   8949,\n",
       "   9312,\n",
       "   9479],\n",
       "  'outlierCount': [444, 619, 881, 964, 989, 1351, 1205, 1255],\n",
       "  'value': [1, 2, 3, 4, 5, 6, 7, 8]},\n",
       " 'nOctaves': {'inlierCount': [5288, 6281, 6666, 6759, 6738, 6738, 6738, 6738],\n",
       "  'outlierCount': [505, 801, 690, 619, 641, 641, 641, 641],\n",
       "  'value': [1, 2, 3, 4, 5, 6, 7, 8]}}"
      ]
     },
     "execution_count": 11,
     "metadata": {},
     "output_type": "execute_result"
    }
   ],
   "source": [
    "results"
   ]
  },
  {
   "cell_type": "markdown",
   "metadata": {},
   "source": [
    "## Wood Buffalo Images\n",
    "_Open and initialize the images_"
   ]
  },
  {
   "cell_type": "code",
   "execution_count": 12,
   "metadata": {
    "collapsed": true
   },
   "outputs": [],
   "source": [
    "imgSet = openImages(imgRange,imgDir,imageParams,'wbnp')"
   ]
  },
  {
   "cell_type": "markdown",
   "metadata": {},
   "source": [
    "_Compute the experiment._"
   ]
  },
  {
   "cell_type": "code",
   "execution_count": 13,
   "metadata": {
    "collapsed": false
   },
   "outputs": [
    {
     "name": "stdout",
     "output_type": "stream",
     "text": [
      "*********** nOctaveLayers ************\n",
      "{'kp': 'surf', 'scale': 0.15, 'nOctaveLayers': 1, 'nOctaves': 4}\n",
      "*********** 1 ***********\n",
      "*********** 2 ***********\n",
      "*********** 3 ***********\n",
      "*********** 4 ***********\n",
      "*********** 5 ***********\n",
      "*********** 6 ***********\n",
      "*********** 7 ***********\n",
      "*********** 8 ***********\n",
      "*********** nOctaves ************\n",
      "{'kp': 'surf', 'scale': 0.15, 'nOctaveLayers': 2, 'nOctaves': 1}\n",
      "*********** 1 ***********\n",
      "*********** 2 ***********\n",
      "*********** 3 ***********\n",
      "*********** 4 ***********\n",
      "*********** 5 ***********\n",
      "*********** 6 ***********\n",
      "*********** 7 ***********\n",
      "*********** 8 ***********\n"
     ]
    },
    {
     "data": {
      "text/plain": [
       "{'kp': 'surf', 'nOctaveLayers': 2, 'nOctaves': 4, 'scale': 0.15}"
      ]
     },
     "execution_count": 13,
     "metadata": {},
     "output_type": "execute_result"
    }
   ],
   "source": [
    "results = computeExperiment(imgSet,params,imageParams)\n",
    "imageParams"
   ]
  },
  {
   "cell_type": "markdown",
   "metadata": {},
   "source": [
    "_Plot Results_"
   ]
  },
  {
   "cell_type": "code",
   "execution_count": 14,
   "metadata": {
    "collapsed": false
   },
   "outputs": [
    {
     "data": {
      "image/png": "[encoded data removed]",
      "text/plain": [
       "<matplotlib.figure.Figure at 0x7fceca53cf10>"
      ]
     },
     "metadata": {},
     "output_type": "display_data"
    }
   ],
   "source": [
    "plotResults(results)"
   ]
  },
  {
   "cell_type": "markdown",
   "metadata": {},
   "source": [
    "_Results_"
   ]
  },
  {
   "cell_type": "code",
   "execution_count": 15,
   "metadata": {
    "collapsed": false
   },
   "outputs": [
    {
     "data": {
      "text/plain": [
       "{'nOctaveLayers': {'inlierCount': [684,\n",
       "   1085,\n",
       "   1241,\n",
       "   1382,\n",
       "   1364,\n",
       "   1453,\n",
       "   1477,\n",
       "   1517],\n",
       "  'outlierCount': [144, 255, 289, 268, 380, 341, 359, 376],\n",
       "  'value': [1, 2, 3, 4, 5, 6, 7, 8]},\n",
       " 'nOctaves': {'inlierCount': [731, 982, 1069, 1085, 1077, 1077, 1077, 1077],\n",
       "  'outlierCount': [164, 217, 232, 255, 265, 265, 265, 265],\n",
       "  'value': [1, 2, 3, 4, 5, 6, 7, 8]}}"
      ]
     },
     "execution_count": 15,
     "metadata": {},
     "output_type": "execute_result"
    }
   ],
   "source": [
    "results"
   ]
  },
  {
   "cell_type": "markdown",
   "metadata": {},
   "source": [
    "## Office Images\n",
    "_Open and initialize the images_"
   ]
  },
  {
   "cell_type": "code",
   "execution_count": 16,
   "metadata": {
    "collapsed": false
   },
   "outputs": [],
   "source": [
    "imageParams['scale']=1\n",
    "imgSet = openImages(imgRange,imgDir,imageParams,'desk')"
   ]
  },
  {
   "cell_type": "code",
   "execution_count": 17,
   "metadata": {
    "collapsed": true
   },
   "outputs": [],
   "source": [
    "imgSet[0].showImage()"
   ]
  },
  {
   "cell_type": "markdown",
   "metadata": {},
   "source": [
    "_Compute Experiment_"
   ]
  },
  {
   "cell_type": "code",
   "execution_count": 18,
   "metadata": {
    "collapsed": false
   },
   "outputs": [
    {
     "name": "stdout",
     "output_type": "stream",
     "text": [
      "*********** nOctaveLayers ************\n",
      "{'kp': 'surf', 'scale': 1, 'nOctaveLayers': 1, 'nOctaves': 4}\n",
      "*********** 1 ***********\n",
      "*********** 2 ***********\n",
      "*********** 3 ***********\n",
      "*********** 4 ***********\n",
      "*********** 5 ***********\n",
      "*********** 6 ***********\n",
      "*********** 7 ***********\n",
      "*********** 8 ***********\n",
      "*********** nOctaves ************\n",
      "{'kp': 'surf', 'scale': 1, 'nOctaveLayers': 2, 'nOctaves': 1}\n",
      "*********** 1 ***********\n",
      "*********** 2 ***********\n",
      "*********** 3 ***********\n",
      "*********** 4 ***********\n",
      "*********** 5 ***********\n",
      "*********** 6 ***********\n",
      "*********** 7 ***********\n",
      "*********** 8 ***********\n"
     ]
    },
    {
     "data": {
      "text/plain": [
       "{'kp': 'surf', 'nOctaveLayers': 2, 'nOctaves': 4, 'scale': 1}"
      ]
     },
     "execution_count": 18,
     "metadata": {},
     "output_type": "execute_result"
    }
   ],
   "source": [
    "results = computeExperiment(imgSet,params,imageParams)\n",
    "imageParams"
   ]
  },
  {
   "cell_type": "code",
   "execution_count": 19,
   "metadata": {
    "collapsed": false
   },
   "outputs": [
    {
     "data": {
      "image/png": "[encoded data removed]",
      "text/plain": [
       "<matplotlib.figure.Figure at 0x7fcf10723c10>"
      ]
     },
     "metadata": {},
     "output_type": "display_data"
    }
   ],
   "source": [
    "plotResults(results)"
   ]
  },
  {
   "cell_type": "code",
   "execution_count": 20,
   "metadata": {
    "collapsed": false
   },
   "outputs": [
    {
     "data": {
      "text/plain": [
       "{'nOctaveLayers': {'inlierCount': [814,\n",
       "   1663,\n",
       "   1846,\n",
       "   2065,\n",
       "   2160,\n",
       "   2195,\n",
       "   2270,\n",
       "   2348],\n",
       "  'outlierCount': [352, 479, 564, 554, 612, 639, 621, 614],\n",
       "  'value': [1, 2, 3, 4, 5, 6, 7, 8]},\n",
       " 'nOctaves': {'inlierCount': [931, 1454, 1637, 1663, 1663, 1663, 1663, 1663],\n",
       "  'outlierCount': [325, 445, 467, 479, 486, 486, 486, 486],\n",
       "  'value': [1, 2, 3, 4, 5, 6, 7, 8]}}"
      ]
     },
     "execution_count": 20,
     "metadata": {},
     "output_type": "execute_result"
    }
   ],
   "source": [
    "results"
   ]
  },
  {
   "cell_type": "code",
   "execution_count": null,
   "metadata": {
    "collapsed": true
   },
   "outputs": [],
   "source": []
  }
 ],
 "metadata": {
  "kernelspec": {
   "display_name": "Python 2",
   "language": "python",
   "name": "python2"
  },
  "language_info": {
   "codemirror_mode": {
    "name": "ipython",
    "version": 2
   },
   "file_extension": ".py",
   "mimetype": "text/x-python",
   "name": "python",
   "nbconvert_exporter": "python",
   "pygments_lexer": "ipython2",
   "version": "2.7.6"
  }
 },
 "nbformat": 4,
 "nbformat_minor": 0
}
