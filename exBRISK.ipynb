{
 "cells": [
  {
   "cell_type": "markdown",
   "metadata": {},
   "source": [
    "# Plotting the SIFT keypoint detector and feature descriptor error function\n",
    "This document contains an experiment in which different keypoint detector and feature descriptor combinations are used to detect and uniquely describe common points of interest in image pairs. The goal of this experiment is to explore the effects that varying the values of the different input parameters of the detector/descriptors have on the frequency of inlier matches when computing a 3D relationship between images based upon epipolar geometry."
   ]
  },
  {
   "cell_type": "markdown",
   "metadata": {},
   "source": [
    "## Hypothesis\n",
    "\n",
    "There exists an optimal set of descriptor/detector parameters that can minimize the number of outlier match pairs computer over a set of images."
   ]
  },
  {
   "cell_type": "markdown",
   "metadata": {},
   "source": [
    "## Experimental Design\n",
    "1. Select three image sets:\n",
    "    1. Nadir Facing Projective Camera.\n",
    "    2. Nadir Facing Fisheye Camera.\n",
    "    3. Oblique Camera.\n",
    "3. Define a bound and a step size for the different parameters.\n",
    "4. Load the images and initialize the Descriptor/Detector to the openCV initial values.\n",
    "5. For each image in the image set compute the keypoints and descriptors.\n",
    "6. For each pair of consecutive images, match corresponding keypoints.\n",
    "7. Estimate the fundamental matrix between the image pair and compute the inliers and outliers for the image pair.\n",
    "8. Sum the the number of inliers, outliers and total computed matches for the entire sequence.\n",
    "9. Select one parameter and vary it by the step size.\n",
    "10. Repeat steps 5 - 9 while varying the selected parameter until it reaches the bounds.\n",
    "11. Reset the parameter to its initial value.\n",
    "12. Select a new parameter to vary and repeat 10.\n",
    "13. Perform 3 - 12 for each image type.\n",
    "\n",
    "This experiment will result in a function for each parameter that corresponds to its behaviour about the point corresponding to the openCV initial values.\n",
    "    \n",
    "    "
   ]
  },
  {
   "cell_type": "markdown",
   "metadata": {},
   "source": [
    "## Experiment\n",
    "To begin we import the necessary python packages including the custom built image processing modules"
   ]
  },
  {
   "cell_type": "code",
   "execution_count": 2,
   "metadata": {
    "collapsed": false,
    "scrolled": true
   },
   "outputs": [],
   "source": [
    "%matplotlib inline\n",
    "import image as im\n",
    "import matching as mt\n",
    "import imageUtility as ut\n",
    "import transforms as tn\n",
    "import numpy as np\n",
    "import matplotlib.pyplot as plt"
   ]
  },
  {
   "cell_type": "markdown",
   "metadata": {},
   "source": [
    "### Select three image sets\n",
    "The following three image datasets are used:\n",
    "* __Nadir Facing Perspective Camera:__ Glacier images from the Sensefly eBee RTK\n",
    "* __Nadir Facing Fisheye Camera:__ Images of the Quatre Fourches River in Wood Buffalo National Park, Alberta, Canada\n",
    "* __Oblique Perspective Camera:__ Images of an office space\n",
    "\n",
    "In this experiment we operate on the raw, unprojected images. Therefore we do not account for any lense distortion nor the internal imaging geometry.\n",
    "\n",
    "### Define a bound and a step size for the different parameters\n",
    "In this experiment we will explore the following parameters:\n",
    "\n",
    "| Parameter | Description | Initial Value | Step Size | Bounds |\n",
    "| --- | --- | --- | --- | --- |\n",
    "|# Features | _desc_ | 10000| 0 | - |\n",
    "|# Octave Layers | _desc_ | 3| 1 | 1 - 5 |\n",
    "|Contrast Threshold | _desc_ | 0.04| 0.01 | 0.01 - 0.08 |\n",
    "|Edge Threshold | _desc_ | 10| 1 | 5 - 15 |\n",
    "|Sigma | _desc_ | 1.6 | 0.1 | 1.0 - 2.0 | \n",
    "\n"
   ]
  },
  {
   "cell_type": "code",
   "execution_count": 8,
   "metadata": {
    "collapsed": false,
    "scrolled": true
   },
   "outputs": [],
   "source": [
    "thresh=30\n",
    "octaves=3\n",
    "patternScale=1.0\n",
    "\n",
    "imgDir = {'glacier':{'dir':'/home/doopy/Documents/View3D/View3D_0_1/exp1/glacier/','ext':'.JPG'},\n",
    "            'wbnp':{'dir':'/home/doopy/Documents/View3D/View3D_0_1/exp1/wbnp/','ext':'.JPG'},\n",
    "            'desk':{'dir':'/home/doopy/Documents/View3D/View3D_0_1/exp1/desk/','ext':'.png'}\n",
    "           }\n",
    "\n",
    "imgRange = range(1,10)\n",
    "\n",
    "imageParams = {'scale':0.15,\n",
    "          'kp':'brisk',\n",
    "          'thresh':thresh,\n",
    "          'octaves':octaves,\n",
    "          'patternScale':patternScale\n",
    "         }\n",
    "\n",
    "params = {'thresh':{'step':5,'iv':10,'bdy':50},\n",
    "        'octaves':{'step':1,'iv':1,'bdy':10},\n",
    "        'patternScale':{'step':0.1,'iv':0.5,'bdy':1.5}\n",
    "         }"
   ]
  },
  {
   "cell_type": "markdown",
   "metadata": {
    "collapsed": true
   },
   "source": [
    "### Open Images and Initialize the Descriptor/Detector to the openCV initial values\n",
    "A custom function is created, using the image class, which creates an image object for each image in the image set, and compute the keypoints and feature descriptors corresponding to the default openCV values"
   ]
  },
  {
   "cell_type": "code",
   "execution_count": 9,
   "metadata": {
    "collapsed": false,
    "scrolled": true
   },
   "outputs": [],
   "source": [
    "def openImages(imgRange,imgDir,imgParams,imgSet):\n",
    "    \n",
    "    images = []\n",
    "\n",
    "\n",
    "    for i in imgRange:\n",
    "        \n",
    "        images.append(im.image(imgDir[imgSet]['dir'] + str(i) + imgDir[imgSet]['ext'],imgParams))\n",
    "        \n",
    "    return images\n",
    "    "
   ]
  },
  {
   "cell_type": "markdown",
   "metadata": {},
   "source": [
    "### Plot Results\n",
    "A custom function is created, using pyplot, which creates a line plots for each parameter variation. The x-axis corresponds to the parameter value, and the y axis correponds to the number of matches. Two curves are plotted:\n",
    "1. total number of matches.\n",
    "2. number of outlier matches."
   ]
  },
  {
   "cell_type": "code",
   "execution_count": 10,
   "metadata": {
    "collapsed": false
   },
   "outputs": [],
   "source": [
    "def plotResults(results):\n",
    "    \n",
    "    plt.figure(1,figsize=(12,12))\n",
    "    i = 0\n",
    "    \n",
    "    for param in results.keys():\n",
    "        \n",
    "        values = np.array(results[param]['value'])\n",
    "        inlier = np.array(results[param]['inlierCount'])\n",
    "        outlier = np.array(results[param]['outlierCount'])\n",
    "        \n",
    "        spVal = 221+i\n",
    "        \n",
    "        plt.subplot(spVal)\n",
    "        plt.plot(values,outlier,label='outlier')\n",
    "        plt.plot(values,outlier+inlier,label='total matches')\n",
    "        plt.legend()\n",
    "        plt.title(param)\n",
    "\n",
    "        i+=1\n",
    "        \n",
    "    plt.subplots_adjust(left=0.10, right=0.95, hspace=0.8, wspace=0.8)"
   ]
  },
  {
   "cell_type": "markdown",
   "metadata": {},
   "source": [
    "### Experiment\n",
    "A custom function is created to generate the experimental results. The function can be applied to any keypoint detector and descriptor pair available in the image and matching toolbox."
   ]
  },
  {
   "cell_type": "code",
   "execution_count": 11,
   "metadata": {
    "collapsed": true
   },
   "outputs": [],
   "source": [
    "def computeExperiment(imageSet,params,imageParams):\n",
    "    \n",
    "    results = {}\n",
    "        \n",
    "    for parameter in params.keys():\n",
    "\n",
    "        print '*********** ' + parameter + ' ************'\n",
    "        \n",
    "        results[parameter] = {'value':[],'inlierCount':[],'outlierCount':[]}\n",
    "        \n",
    "        imgParams = {key: value for key, value in imageParams.items()}\n",
    "        \n",
    "        imgParams[parameter] = params[parameter]['iv']\n",
    "        print imgParams\n",
    "        \n",
    "        for j in np.arange(imgParams[parameter],params[parameter]['bdy'],params[parameter]['step']):\n",
    "\n",
    "            imgParams[parameter] = j\n",
    "\n",
    "            print '*********** ' + str(j) + ' ***********'\n",
    "\n",
    "            for img in imageSet:\n",
    "\n",
    "                img.computeKP(imgParams)\n",
    "\n",
    "            img1 = imageSet[0]\n",
    "            inlierSum = 0\n",
    "            outlierSum = 0\n",
    "\n",
    "            for img2 in imageSet[1:]:\n",
    "\n",
    "                F = tn.fundamental(img1,img2,imgParams)\n",
    "\n",
    "                inlierSum += F.inlierCount()\n",
    "                outlierSum += F.outlierCount()\n",
    "\n",
    "                img1 = img2   \n",
    "\n",
    "            results[parameter]['value'].append(imgParams[parameter])\n",
    "            results[parameter]['inlierCount'].append(inlierSum)\n",
    "            results[parameter]['outlierCount'].append(outlierSum)\n",
    "            \n",
    "    return results\n",
    "        "
   ]
  },
  {
   "cell_type": "markdown",
   "metadata": {},
   "source": [
    "## Glacier Images\n",
    "_Open and initialize the images_"
   ]
  },
  {
   "cell_type": "code",
   "execution_count": 12,
   "metadata": {
    "collapsed": false
   },
   "outputs": [],
   "source": [
    "imgSet = openImages(imgRange,imgDir,imageParams,'glacier')"
   ]
  },
  {
   "cell_type": "markdown",
   "metadata": {},
   "source": [
    "_Compute the experiment._"
   ]
  },
  {
   "cell_type": "code",
   "execution_count": 13,
   "metadata": {
    "collapsed": false
   },
   "outputs": [
    {
     "name": "stdout",
     "output_type": "stream",
     "text": [
      "*********** octaves ************\n",
      "{'thresh': 30, 'patternScale': 1.0, 'scale': 0.15, 'octaves': 1, 'kp': 'brisk'}\n",
      "*********** 1 ***********\n",
      "*********** 2 ***********\n",
      "*********** 3 ***********\n",
      "*********** 4 ***********\n",
      "*********** 5 ***********\n",
      "*********** 6 ***********\n",
      "*********** 7 ***********\n",
      "*********** 8 ***********\n",
      "*********** 9 ***********\n",
      "*********** patternScale ************\n",
      "{'thresh': 30, 'patternScale': 0.5, 'scale': 0.15, 'octaves': 3, 'kp': 'brisk'}\n",
      "*********** 0.5 ***********\n",
      "*********** 0.6 ***********\n",
      "*********** 0.7 ***********\n",
      "*********** 0.8 ***********\n",
      "*********** 0.9 ***********\n",
      "*********** 1.0 ***********\n",
      "*********** 1.1 ***********\n",
      "*********** 1.2 ***********\n",
      "*********** 1.3 ***********\n",
      "*********** 1.4 ***********\n",
      "*********** thresh ************\n",
      "{'thresh': 10, 'patternScale': 1.0, 'scale': 0.15, 'octaves': 3, 'kp': 'brisk'}\n",
      "*********** 10 ***********\n",
      "*********** 15 ***********\n",
      "*********** 20 ***********\n",
      "*********** 25 ***********\n",
      "*********** 30 ***********\n",
      "*********** 35 ***********\n",
      "*********** 40 ***********\n",
      "*********** 45 ***********\n"
     ]
    },
    {
     "data": {
      "text/plain": [
       "{'kp': 'brisk', 'octaves': 3, 'patternScale': 1.0, 'scale': 0.15, 'thresh': 30}"
      ]
     },
     "execution_count": 13,
     "metadata": {},
     "output_type": "execute_result"
    }
   ],
   "source": [
    "results = computeExperiment(imgSet,params,imageParams)\n",
    "imageParams"
   ]
  },
  {
   "cell_type": "markdown",
   "metadata": {},
   "source": [
    "_Plot the results_"
   ]
  },
  {
   "cell_type": "code",
   "execution_count": 14,
   "metadata": {
    "collapsed": false
   },
   "outputs": [
    {
     "data": {
      "image/png": "[encoded data removed]",
      "text/plain": [
       "<matplotlib.figure.Figure at 0x7f5fedfe8510>"
      ]
     },
     "metadata": {},
     "output_type": "display_data"
    }
   ],
   "source": [
    "plotResults(results)"
   ]
  },
  {
   "cell_type": "markdown",
   "metadata": {},
   "source": [
    "_Display results_"
   ]
  },
  {
   "cell_type": "code",
   "execution_count": 15,
   "metadata": {
    "collapsed": false
   },
   "outputs": [
    {
     "data": {
      "text/plain": [
       "{'octaves': {'inlierCount': [3527,\n",
       "   3527,\n",
       "   3527,\n",
       "   3527,\n",
       "   3527,\n",
       "   3527,\n",
       "   3527,\n",
       "   3527,\n",
       "   3527],\n",
       "  'outlierCount': [199, 199, 199, 199, 199, 199, 199, 199, 199],\n",
       "  'value': [1, 2, 3, 4, 5, 6, 7, 8, 9]},\n",
       " 'patternScale': {'inlierCount': [3527,\n",
       "   3527,\n",
       "   3527,\n",
       "   3527,\n",
       "   3527,\n",
       "   3527,\n",
       "   3527,\n",
       "   3527,\n",
       "   3527,\n",
       "   3527],\n",
       "  'outlierCount': [199, 199, 199, 199, 199, 199, 199, 199, 199, 199],\n",
       "  'value': [0.5,\n",
       "   0.59999999999999998,\n",
       "   0.69999999999999996,\n",
       "   0.79999999999999993,\n",
       "   0.89999999999999991,\n",
       "   0.99999999999999989,\n",
       "   1.0999999999999999,\n",
       "   1.1999999999999997,\n",
       "   1.2999999999999998,\n",
       "   1.3999999999999999]},\n",
       " 'thresh': {'inlierCount': [3527, 3527, 3527, 3527, 3527, 3527, 3527, 3527],\n",
       "  'outlierCount': [199, 199, 199, 199, 199, 199, 199, 199],\n",
       "  'value': [10, 15, 20, 25, 30, 35, 40, 45]}}"
      ]
     },
     "execution_count": 15,
     "metadata": {},
     "output_type": "execute_result"
    }
   ],
   "source": [
    "results"
   ]
  },
  {
   "cell_type": "markdown",
   "metadata": {},
   "source": [
    "## Wood Buffalo Images\n",
    "_Open and initialize the images_"
   ]
  },
  {
   "cell_type": "code",
   "execution_count": 16,
   "metadata": {
    "collapsed": true
   },
   "outputs": [],
   "source": [
    "imgSet = openImages(imgRange,imgDir,imageParams,'wbnp')"
   ]
  },
  {
   "cell_type": "markdown",
   "metadata": {},
   "source": [
    "_Compute the experiment._"
   ]
  },
  {
   "cell_type": "code",
   "execution_count": 17,
   "metadata": {
    "collapsed": false
   },
   "outputs": [
    {
     "name": "stdout",
     "output_type": "stream",
     "text": [
      "*********** octaves ************\n",
      "{'thresh': 30, 'patternScale': 1.0, 'scale': 0.15, 'octaves': 1, 'kp': 'brisk'}\n",
      "*********** 1 ***********\n",
      "*********** 2 ***********\n",
      "*********** 3 ***********\n",
      "*********** 4 ***********\n",
      "*********** 5 ***********\n",
      "*********** 6 ***********\n",
      "*********** 7 ***********\n",
      "*********** 8 ***********\n",
      "*********** 9 ***********\n",
      "*********** patternScale ************\n",
      "{'thresh': 30, 'patternScale': 0.5, 'scale': 0.15, 'octaves': 3, 'kp': 'brisk'}\n",
      "*********** 0.5 ***********\n",
      "*********** 0.6 ***********\n",
      "*********** 0.7 ***********\n",
      "*********** 0.8 ***********\n",
      "*********** 0.9 ***********\n",
      "*********** 1.0 ***********\n",
      "*********** 1.1 ***********\n",
      "*********** 1.2 ***********\n",
      "*********** 1.3 ***********\n",
      "*********** 1.4 ***********\n",
      "*********** thresh ************\n",
      "{'thresh': 10, 'patternScale': 1.0, 'scale': 0.15, 'octaves': 3, 'kp': 'brisk'}\n",
      "*********** 10 ***********\n",
      "*********** 15 ***********\n",
      "*********** 20 ***********\n",
      "*********** 25 ***********\n",
      "*********** 30 ***********\n",
      "*********** 35 ***********\n",
      "*********** 40 ***********\n",
      "*********** 45 ***********\n"
     ]
    },
    {
     "data": {
      "text/plain": [
       "{'kp': 'brisk', 'octaves': 3, 'patternScale': 1.0, 'scale': 0.15, 'thresh': 30}"
      ]
     },
     "execution_count": 17,
     "metadata": {},
     "output_type": "execute_result"
    }
   ],
   "source": [
    "results = computeExperiment(imgSet,params,imageParams)\n",
    "imageParams"
   ]
  },
  {
   "cell_type": "markdown",
   "metadata": {},
   "source": [
    "_Plot Results_"
   ]
  },
  {
   "cell_type": "code",
   "execution_count": 18,
   "metadata": {
    "collapsed": false
   },
   "outputs": [
    {
     "data": {
      "image/png": "[encoded data removed]",
      "text/plain": [
       "<matplotlib.figure.Figure at 0x7f5fee03c990>"
      ]
     },
     "metadata": {},
     "output_type": "display_data"
    }
   ],
   "source": [
    "plotResults(results)"
   ]
  },
  {
   "cell_type": "markdown",
   "metadata": {},
   "source": [
    "_Results_"
   ]
  },
  {
   "cell_type": "code",
   "execution_count": 19,
   "metadata": {
    "collapsed": false
   },
   "outputs": [
    {
     "data": {
      "text/plain": [
       "{'octaves': {'inlierCount': [380, 380, 380, 380, 380, 380, 380, 380, 380],\n",
       "  'outlierCount': [8, 8, 8, 8, 8, 8, 8, 8, 8],\n",
       "  'value': [1, 2, 3, 4, 5, 6, 7, 8, 9]},\n",
       " 'patternScale': {'inlierCount': [380,\n",
       "   380,\n",
       "   380,\n",
       "   380,\n",
       "   380,\n",
       "   380,\n",
       "   380,\n",
       "   380,\n",
       "   380,\n",
       "   380],\n",
       "  'outlierCount': [8, 8, 8, 8, 8, 8, 8, 8, 8, 8],\n",
       "  'value': [0.5,\n",
       "   0.59999999999999998,\n",
       "   0.69999999999999996,\n",
       "   0.79999999999999993,\n",
       "   0.89999999999999991,\n",
       "   0.99999999999999989,\n",
       "   1.0999999999999999,\n",
       "   1.1999999999999997,\n",
       "   1.2999999999999998,\n",
       "   1.3999999999999999]},\n",
       " 'thresh': {'inlierCount': [380, 380, 380, 380, 380, 380, 380, 380],\n",
       "  'outlierCount': [8, 8, 8, 8, 8, 8, 8, 8],\n",
       "  'value': [10, 15, 20, 25, 30, 35, 40, 45]}}"
      ]
     },
     "execution_count": 19,
     "metadata": {},
     "output_type": "execute_result"
    }
   ],
   "source": [
    "results"
   ]
  },
  {
   "cell_type": "markdown",
   "metadata": {},
   "source": [
    "## Office Images\n",
    "_Open and initialize the images_"
   ]
  },
  {
   "cell_type": "code",
   "execution_count": 20,
   "metadata": {
    "collapsed": false
   },
   "outputs": [],
   "source": [
    "imageParams['scale']=1\n",
    "imgSet = openImages(imgRange,imgDir,imageParams,'desk')"
   ]
  },
  {
   "cell_type": "code",
   "execution_count": 22,
   "metadata": {
    "collapsed": true
   },
   "outputs": [],
   "source": [
    "imgSet[0].showImage()"
   ]
  },
  {
   "cell_type": "markdown",
   "metadata": {},
   "source": [
    "_Compute Experiment_"
   ]
  },
  {
   "cell_type": "code",
   "execution_count": 23,
   "metadata": {
    "collapsed": false
   },
   "outputs": [
    {
     "name": "stdout",
     "output_type": "stream",
     "text": [
      "*********** octaves ************\n",
      "{'thresh': 30, 'patternScale': 1.0, 'scale': 1, 'octaves': 1, 'kp': 'brisk'}\n",
      "*********** 1 ***********\n"
     ]
    },
    {
     "ename": "TypeError",
     "evalue": "'NoneType' object has no attribute '__getitem__'",
     "output_type": "error",
     "traceback": [
      "\u001b[1;31m---------------------------------------------------------------------------\u001b[0m",
      "\u001b[1;31mTypeError\u001b[0m                                 Traceback (most recent call last)",
      "\u001b[1;32m<ipython-input-23-b5b89ad2fe43>\u001b[0m in \u001b[0;36m<module>\u001b[1;34m()\u001b[0m\n\u001b[1;32m----> 1\u001b[1;33m \u001b[0mresults\u001b[0m \u001b[1;33m=\u001b[0m \u001b[0mcomputeExperiment\u001b[0m\u001b[1;33m(\u001b[0m\u001b[0mimgSet\u001b[0m\u001b[1;33m,\u001b[0m\u001b[0mparams\u001b[0m\u001b[1;33m,\u001b[0m\u001b[0mimageParams\u001b[0m\u001b[1;33m)\u001b[0m\u001b[1;33m\u001b[0m\u001b[0m\n\u001b[0m\u001b[0;32m      2\u001b[0m \u001b[0mimageParams\u001b[0m\u001b[1;33m\u001b[0m\u001b[0m\n",
      "\u001b[1;32m<ipython-input-11-d32804c5ba0a>\u001b[0m in \u001b[0;36mcomputeExperiment\u001b[1;34m(imageSet, params, imageParams)\u001b[0m\n\u001b[0;32m     32\u001b[0m                 \u001b[0mF\u001b[0m \u001b[1;33m=\u001b[0m \u001b[0mtn\u001b[0m\u001b[1;33m.\u001b[0m\u001b[0mfundamental\u001b[0m\u001b[1;33m(\u001b[0m\u001b[0mimg1\u001b[0m\u001b[1;33m,\u001b[0m\u001b[0mimg2\u001b[0m\u001b[1;33m,\u001b[0m\u001b[0mimgParams\u001b[0m\u001b[1;33m)\u001b[0m\u001b[1;33m\u001b[0m\u001b[0m\n\u001b[0;32m     33\u001b[0m \u001b[1;33m\u001b[0m\u001b[0m\n\u001b[1;32m---> 34\u001b[1;33m                 \u001b[0minlierSum\u001b[0m \u001b[1;33m+=\u001b[0m \u001b[0mF\u001b[0m\u001b[1;33m.\u001b[0m\u001b[0minlierCount\u001b[0m\u001b[1;33m(\u001b[0m\u001b[1;33m)\u001b[0m\u001b[1;33m\u001b[0m\u001b[0m\n\u001b[0m\u001b[0;32m     35\u001b[0m                 \u001b[0moutlierSum\u001b[0m \u001b[1;33m+=\u001b[0m \u001b[0mF\u001b[0m\u001b[1;33m.\u001b[0m\u001b[0moutlierCount\u001b[0m\u001b[1;33m(\u001b[0m\u001b[1;33m)\u001b[0m\u001b[1;33m\u001b[0m\u001b[0m\n\u001b[0;32m     36\u001b[0m \u001b[1;33m\u001b[0m\u001b[0m\n",
      "\u001b[1;32m/home/doopy/Documents/View3D/View3D_0_1/transforms.pyc\u001b[0m in \u001b[0;36minlierCount\u001b[1;34m(self)\u001b[0m\n\u001b[0;32m     41\u001b[0m         \u001b[1;32mdef\u001b[0m \u001b[0minlierCount\u001b[0m\u001b[1;33m(\u001b[0m\u001b[0mself\u001b[0m\u001b[1;33m)\u001b[0m\u001b[1;33m:\u001b[0m\u001b[1;33m\u001b[0m\u001b[0m\n\u001b[0;32m     42\u001b[0m \u001b[1;33m\u001b[0m\u001b[0m\n\u001b[1;32m---> 43\u001b[1;33m                 \u001b[1;32mreturn\u001b[0m \u001b[0mlen\u001b[0m\u001b[1;33m(\u001b[0m\u001b[0mself\u001b[0m\u001b[1;33m.\u001b[0m\u001b[0mbitmask\u001b[0m\u001b[1;33m[\u001b[0m\u001b[0mself\u001b[0m\u001b[1;33m.\u001b[0m\u001b[0mbitmask\u001b[0m \u001b[1;33m==\u001b[0m \u001b[1;36m1\u001b[0m\u001b[1;33m]\u001b[0m\u001b[1;33m)\u001b[0m\u001b[1;33m\u001b[0m\u001b[0m\n\u001b[0m\u001b[0;32m     44\u001b[0m \u001b[1;33m\u001b[0m\u001b[0m\n\u001b[0;32m     45\u001b[0m         \u001b[1;32mdef\u001b[0m \u001b[0moutlierCount\u001b[0m\u001b[1;33m(\u001b[0m\u001b[0mself\u001b[0m\u001b[1;33m)\u001b[0m\u001b[1;33m:\u001b[0m\u001b[1;33m\u001b[0m\u001b[0m\n",
      "\u001b[1;31mTypeError\u001b[0m: 'NoneType' object has no attribute '__getitem__'"
     ]
    }
   ],
   "source": [
    "results = computeExperiment(imgSet,params,imageParams)\n",
    "imageParams"
   ]
  },
  {
   "cell_type": "code",
   "execution_count": 27,
   "metadata": {
    "collapsed": false
   },
   "outputs": [
    {
     "data": {
      "image/png": "[encoded data removed]",
      "text/plain": [
       "<matplotlib.figure.Figure at 0x7f22e3b34e10>"
      ]
     },
     "metadata": {},
     "output_type": "display_data"
    }
   ],
   "source": [
    "plotResults(results)"
   ]
  },
  {
   "cell_type": "code",
   "execution_count": 28,
   "metadata": {
    "collapsed": false
   },
   "outputs": [
    {
     "data": {
      "text/plain": [
       "{'contrastThreshold': {'inlierCount': [2196,\n",
       "   2055,\n",
       "   1883,\n",
       "   1735,\n",
       "   1570,\n",
       "   1418,\n",
       "   1260,\n",
       "   1108],\n",
       "  'outlierCount': [482, 397, 358, 305, 278, 251, 232, 188],\n",
       "  'value': [0.01,\n",
       "   0.02,\n",
       "   0.029999999999999999,\n",
       "   0.040000000000000001,\n",
       "   0.050000000000000003,\n",
       "   0.060000000000000005,\n",
       "   0.069999999999999993,\n",
       "   0.080000000000000002]},\n",
       " 'edgeThreshold': {'inlierCount': [1281,\n",
       "   1417,\n",
       "   1563,\n",
       "   1619,\n",
       "   1664,\n",
       "   1735,\n",
       "   1771,\n",
       "   1817,\n",
       "   1847,\n",
       "   1870,\n",
       "   1929],\n",
       "  'outlierCount': [209, 247, 248, 276, 307, 305, 330, 347, 349, 364, 343],\n",
       "  'value': [5, 6, 7, 8, 9, 10, 11, 12, 13, 14, 15]},\n",
       " 'nOctaveLayers': {'inlierCount': [1089, 1597, 1735, 1877, 1798],\n",
       "  'outlierCount': [216, 283, 305, 325, 330],\n",
       "  'value': [1, 2, 3, 4, 5]},\n",
       " 'sigma': {'inlierCount': [1705,\n",
       "   1766,\n",
       "   1757,\n",
       "   1737,\n",
       "   1791,\n",
       "   1770,\n",
       "   1735,\n",
       "   1760,\n",
       "   1762,\n",
       "   1671,\n",
       "   1688],\n",
       "  'outlierCount': [383, 382, 384, 358, 315, 322, 305, 305, 271, 275, 261],\n",
       "  'value': [1.0,\n",
       "   1.1000000000000001,\n",
       "   1.2000000000000002,\n",
       "   1.3000000000000003,\n",
       "   1.4000000000000004,\n",
       "   1.5000000000000004,\n",
       "   1.6000000000000005,\n",
       "   1.7000000000000006,\n",
       "   1.8000000000000007,\n",
       "   1.9000000000000008,\n",
       "   2.0000000000000009]}}"
      ]
     },
     "execution_count": 28,
     "metadata": {},
     "output_type": "execute_result"
    }
   ],
   "source": [
    "results"
   ]
  },
  {
   "cell_type": "code",
   "execution_count": null,
   "metadata": {
    "collapsed": true
   },
   "outputs": [],
   "source": []
  }
 ],
 "metadata": {
  "kernelspec": {
   "display_name": "Python 2",
   "language": "python",
   "name": "python2"
  },
  "language_info": {
   "codemirror_mode": {
    "name": "ipython",
    "version": 2
   },
   "file_extension": ".py",
   "mimetype": "text/x-python",
   "name": "python",
   "nbconvert_exporter": "python",
   "pygments_lexer": "ipython2",
   "version": "2.7.6"
  }
 },
 "nbformat": 4,
 "nbformat_minor": 0
}
