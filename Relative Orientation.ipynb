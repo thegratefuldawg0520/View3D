{
 "cells": [
  {
   "cell_type": "markdown",
   "metadata": {},
   "source": [
    "# Relative Orientation Computation\n",
    "This notebook is meant to be used to debug the computations associated with the determination of relative orientation between two images in the model space. This approach uses the collinearity equations to establish the relationship between points common to both images, and constructs a linearized model of the relationship using analytically computed derivatives."
   ]
  },
  {
   "cell_type": "markdown",
   "metadata": {},
   "source": [
    "## Import Python Packages"
   ]
  },
  {
   "cell_type": "code",
   "execution_count": 107,
   "metadata": {
    "collapsed": true
   },
   "outputs": [],
   "source": [
    "%matplotlib inline\n",
    "import numpy as np\n",
    "import image as im\n",
    "import matching as mt\n",
    "import imageUtility as ut\n",
    "import transforms as tn\n",
    "import matplotlib.pyplot as plt\n",
    "import cv2"
   ]
  },
  {
   "cell_type": "markdown",
   "metadata": {},
   "source": [
    "## The Collinearity Equation Function\n",
    "The Collinearity Equation Function computes the image coordinates for an image point given the camera exterior orientation parameters and the object space coordinates of the point"
   ]
  },
  {
   "cell_type": "code",
   "execution_count": 108,
   "metadata": {
    "collapsed": true
   },
   "outputs": [],
   "source": [
    "def computeCollinearity(f,x,y,ohm,phi,kap,X,Y,Z,XP,YP,ZP):\n",
    "\t\n",
    "\to = np.radians(ohm)\n",
    "\tp = np.radians(phi)\n",
    "\tk = np.radians(kap)\n",
    "\t\n",
    "\tcoso = np.cos(o)\n",
    "\tsino = np.sin(o)\n",
    "\tcosp = np.cos(p)\n",
    "\tsinp = np.sin(o)\n",
    "\tcosk = np.cos(k)\n",
    "\tsink = np.sin(o)\n",
    "\t\n",
    "\tr11 = cosp*cosk\n",
    "\tr12 = -cosp*sink\n",
    "\tr13 = sinp\n",
    "\tr21 = coso*sink + sino*sinp*cosk\n",
    "\tr22 = coso*cosk - sino*sinp*sink\n",
    "\tr23 = -sino*cosp\n",
    "\tr31 = sino*sink - coso*sinp*cosk\n",
    "\tr32 = sino*cosk + coso*sinp*sink\n",
    "\tr33 = coso*cosp\n",
    "\t\n",
    "\tNx = r11*(XP-X) + r21*(YP-Y) + r31*(ZP-Z)\n",
    "\tNy = r12*(XP-X) + r22*(YP-Y) + r32*(ZP-Z)\n",
    "\tD = r13*(XP-X) + r23*(YP-Y) + r33*(ZP-Z)\n",
    "\n",
    "\tF = x-f*Nx/D\n",
    "\tG = y-f*Ny/D\n",
    "\t\n",
    "\treturn F,G"
   ]
  },
  {
   "cell_type": "markdown",
   "metadata": {},
   "source": [
    "## Coordinate Normalization Function\n",
    "This function transforms point coordinates from their native cooridnate system into a system whoes bounds vary from -1:1 for each of the coordinate axes."
   ]
  },
  {
   "cell_type": "code",
   "execution_count": 109,
   "metadata": {
    "collapsed": true
   },
   "outputs": [],
   "source": [
    "def normalize(pts,nrow,ncol):\n",
    "\t\n",
    "\t#row\n",
    "\tn1 = 2.0*pts[:,0]/ncol - 1\n",
    "\tn2 = 2.0*pts[:,1]/nrow - 1\n",
    "\t\n",
    "\treturn np.array([n1,n2])"
   ]
  },
  {
   "cell_type": "markdown",
   "metadata": {},
   "source": [
    "## uv Pixel coordinates to xy Image coordinates"
   ]
  },
  {
   "cell_type": "code",
   "execution_count": 110,
   "metadata": {
    "collapsed": true
   },
   "outputs": [],
   "source": [
    "def uv2xy(pts,nrow,ncol):\n",
    "    \n",
    "    n1 = pts[:,0] - ncol/2.0\n",
    "    n2 = pts[:,1] - nrow/2.0\n",
    "    \n",
    "    return np.array([n1,n2])"
   ]
  },
  {
   "cell_type": "markdown",
   "metadata": {},
   "source": [
    "## Image Measurements\n",
    "The first step is to measure the coordinates of key points in each of the images and to generate a feature that uniquely describes the key points. Ideally the features are invariant under transformation. The keypoints are then matched on the basis of these features."
   ]
  },
  {
   "cell_type": "markdown",
   "metadata": {},
   "source": [
    "### Define Image Parameters\n",
    "Parameters are defined for image keypoint detection and descriptor computation. "
   ]
  },
  {
   "cell_type": "code",
   "execution_count": 111,
   "metadata": {
    "collapsed": true
   },
   "outputs": [],
   "source": [
    "params = {'scale':0.15,\n",
    "\t\t  'kp':'sift',\n",
    "\t\t  'nOctaveLayers':3,\n",
    "\t\t  'contrastThreshold':0.04,\n",
    "\t\t  'edgeThreshold':10,\n",
    "\t\t  'sigma':1.6\n",
    "\t\t }"
   ]
  },
  {
   "cell_type": "markdown",
   "metadata": {},
   "source": [
    "### Open Images\n",
    "A pair of images are loaded into the software, and their keypoints and descriptors are computed based upon the parameters"
   ]
  },
  {
   "cell_type": "code",
   "execution_count": 112,
   "metadata": {
    "collapsed": true
   },
   "outputs": [],
   "source": [
    "img1 = im.image('/home/doopy/Documents/View3D/View3D_0_1/im0.png',params) \n",
    "img2 = im.image('/home/doopy/Documents/View3D/View3D_0_1/im1.png',params)"
   ]
  },
  {
   "cell_type": "markdown",
   "metadata": {},
   "source": [
    "### Match Key Points between Images\n",
    "A KNN matching is used to establish the correspondences between image points. "
   ]
  },
  {
   "cell_type": "code",
   "execution_count": 113,
   "metadata": {
    "collapsed": true
   },
   "outputs": [],
   "source": [
    "matches = mt.matches(img1,img2,params)\n",
    "img1Matches = uv2xy(matches.matchPoints['img1'][:,0],img1.img.shape[0],img1.img.shape[1])\n",
    "img2Matches = uv2xy(matches.matchPoints['img2'][:,0],img2.img.shape[0],img2.img.shape[1])"
   ]
  },
  {
   "cell_type": "code",
   "execution_count": 163,
   "metadata": {
    "collapsed": false
   },
   "outputs": [
    {
     "data": {
      "text/plain": [
       "205.78949"
      ]
     },
     "execution_count": 163,
     "metadata": {},
     "output_type": "execute_result"
    }
   ],
   "source": [
    "img1Matches[0,:].max()"
   ]
  },
  {
   "cell_type": "markdown",
   "metadata": {},
   "source": [
    "### Draw matches\n",
    "Draw the matches between the two images as a sanity check. Currently this uses an openCV function and cannot plot inline. If necessary, the function will be re-implemented to plot inline."
   ]
  },
  {
   "cell_type": "code",
   "execution_count": 114,
   "metadata": {
    "collapsed": true
   },
   "outputs": [],
   "source": [
    "matches.drawMatches()"
   ]
  },
  {
   "cell_type": "markdown",
   "metadata": {},
   "source": [
    "## Construct the Design Matrix\n",
    "The collinearity equations are used to model the relationship between the object point, the camera perspective center, and the image point. In this case the observations consist of the image coordinates of each point, and the design matrix is the jacobian relating the transformation from the object space to the image space, consisting of the first order coefficients resulting from the linearization of the collinearity equations."
   ]
  },
  {
   "cell_type": "markdown",
   "metadata": {},
   "source": [
    "### Initialize all variables\n",
    "The initial values for the exterior orientation are defined, and data structures are allocated for each of the design matrix, the observation vector, and the unknown parameter vector. All parameters are modelled as unknowns."
   ]
  },
  {
   "cell_type": "code",
   "execution_count": 145,
   "metadata": {
    "collapsed": false
   },
   "outputs": [],
   "source": [
    "A = np.zeros((4*img1Matches.shape[1],3*img1Matches.shape[1]+12))\n",
    "\n",
    "cx = 1424.085*params['scale'] - img1.img.shape[1]/2.0\n",
    "cy = 953.053*params['scale'] - img1.img.shape[0]/2.0\n",
    "f = 2852.758*params['scale']\n",
    "\n",
    "Xl = 0\n",
    "Yl = 0\n",
    "Zl = f\n",
    "ol = 0\n",
    "pl = 0\n",
    "kl = 0\n",
    "Xr = 1\n",
    "Yr = 0\n",
    "Zr = f\n",
    "Or = 0\n",
    "pr = 0\n",
    "kr = 0\n",
    "\n",
    "l = []\n",
    "\n",
    "x = [Xl,Yl,Zl,ol,pl,kl,Xr,Yr,Zr,Or,pr,kr]"
   ]
  },
  {
   "cell_type": "markdown",
   "metadata": {},
   "source": [
    "### Left Image Observations\n"
   ]
  },
  {
   "cell_type": "code",
   "execution_count": 146,
   "metadata": {
    "collapsed": false
   },
   "outputs": [],
   "source": [
    "for i in range(img1Matches.shape[1]):\n",
    "\t\n",
    "\tdXP = 0.005\n",
    "\tdYP = 0.005\n",
    "\tdZP = 0.005\n",
    "\n",
    "\t#f,x,y,ohm,phi,kap,X,Y,Z,XP,YP,ZP\n",
    "\tfr,gr = computeCollinearity(f,cx,cy,ol,pl,kl,Xl,Yl,Zl,img1Matches[0,i]+dXP,img1Matches[1,i],0) \n",
    "\tfl,gl = computeCollinearity(f,cx,cy,ol,pl,kl,Xl,Yl,Zl,img1Matches[0,i]-dXP,img1Matches[1,i],0)\n",
    "\n",
    "\tA[2*i,3*i+12] = (fr - fl)/dXP\n",
    "\tA[2*i+1,3*i+12] = (gr - gl)/dXP\n",
    "\t\n",
    "\t#f,x,y,ohm,phi,kap,X,Y,Z,XP,YP,ZP\n",
    "\tfr,gr = computeCollinearity(f,cx,cy,ol,pl,kl,Xl,Yl,Zl,img1Matches[0,i],img1Matches[1,i]+dYP,0) \n",
    "\tfl,gl = computeCollinearity(f,cx,cy,ol,pl,kl,Xl,Yl,Zl,img1Matches[0,i],img1Matches[1,i]-dYP,0)\n",
    "\t\n",
    "\tA[2*i,3*i+12] = (fr - fl)/dYP\n",
    "\tA[2*i+1,3*i+12] = (gr - gl)/dYP\n",
    "\t\n",
    "\t#f,x,y,ohm,phi,kap,X,Y,Z,XP,YP,ZP\n",
    "\tfr,gr = computeCollinearity(f,cx,cy,ol,pl,kl,Xl,Yl,Zl,img1Matches[0,i],img1Matches[1,i],0+dZP) \n",
    "\tfl,gl = computeCollinearity(f,cx,cy,ol,pl,kl,Xl,Yl,Zl,img1Matches[0,i],img1Matches[1,i],0-dZP)\n",
    "\t\n",
    "\tA[2*i,3*i+12] = (fr - fl)/dZP\n",
    "\tA[2*i+1,3*i+12] = (gr - gl)/dZP\n",
    "\t\n",
    "\tptCalc = computeCollinearity(f,cx,cy,ol,pl,kl,Xl,Yl,Zl,img1Matches[0,i],img1Matches[1,i],0)\n",
    "\tl.append(img1Matches[0,i] - ptCalc[0])\n",
    "\tl.append(img1Matches[1,i] - ptCalc[1])\n",
    "\tx.append(img1Matches[0,i])\n",
    "\tx.append(img1Matches[1,i])\n",
    "\tx.append(0)"
   ]
  },
  {
   "cell_type": "code",
   "execution_count": 166,
   "metadata": {
    "collapsed": false
   },
   "outputs": [
    {
     "data": {
      "text/plain": [
       "-178.66531694335936"
      ]
     },
     "execution_count": 166,
     "metadata": {},
     "output_type": "execute_result"
    }
   ],
   "source": [
    "l.min()"
   ]
  },
  {
   "cell_type": "code",
   "execution_count": 147,
   "metadata": {
    "collapsed": false
   },
   "outputs": [
    {
     "data": {
      "image/png": "[encoded data removed]",
      "text/plain": [
       "<matplotlib.figure.Figure at 0x7f67b00bdc90>"
      ]
     },
     "metadata": {},
     "output_type": "display_data"
    }
   ],
   "source": [
    "plt.figure(figsize=(15, 11))\n",
    "plt.imshow(A)\n",
    "plt.show()"
   ]
  },
  {
   "cell_type": "code",
   "execution_count": 148,
   "metadata": {
    "collapsed": false
   },
   "outputs": [],
   "source": [
    "for i in range(img1Matches.shape[1]):\n",
    "\t\n",
    "\tdYr = 0.005\n",
    "\tdZr = 0.005\n",
    "\tdOr = 0.5\n",
    "\tdpr = 0.5\n",
    "\tdkr = 0.5\n",
    "\t\n",
    "\tdXP = 0.005\n",
    "\tdYP = 0.005\n",
    "\tdZP = 0.005\n",
    "\n",
    "\t#f,x,y,ohm,phi,kap,X,Y,Z,XP,YP,ZP\n",
    "\tfr,gr = computeCollinearity(f,cx,cy,Or+dOr,pr,kr,Xr,Yr,Zr,img1Matches[0,i],img1Matches[1,i],0) \n",
    "\tfl,gl = computeCollinearity(f,cx,cy,Or-dOr,pr,kr,Xr,Yr,Zr,img1Matches[0,i],img1Matches[1,i],0)\n",
    "\n",
    "\tA[2*i+2*img1Matches.shape[1],9] = (fr - fl)/dOr\n",
    "\tA[2*i+1+2*img1Matches.shape[1],9] = (gr - gl)/dOr\n",
    "\t\n",
    "\t#f,x,y,ohm,phi,kap,X,Y,Z,XP,YP,ZP\n",
    "\tfr,gr = computeCollinearity(f,cx,cy,Or,pr+dpr,kr,Xr,Yr,Zr,img1Matches[0,i],img1Matches[1,i],0) \n",
    "\tfl,gl = computeCollinearity(f,cx,cy,Or,pr-dpr,kr,Xr,Yr,Zr,img1Matches[0,i],img1Matches[1,i],0)\n",
    "\t\n",
    "\tA[2*i+2*img1Matches.shape[1],10] = (fr - fl)/dpr\n",
    "\tA[2*i+1+2*img1Matches.shape[1],10] = (gr - gl)/dpr\n",
    "\t\n",
    "\t#f,x,y,ohm,phi,kap,X,Y,Z,XP,YP,ZP\n",
    "\tfr,gr = computeCollinearity(f,cx,cy,Or,pr,kr+dkr,Xr,Yr,Zr,img1Matches[0,i],img1Matches[1,i],0) \n",
    "\tfl,gl = computeCollinearity(f,cx,cy,Or,pr,kr+dkr,Xr,Yr,Zr,img1Matches[0,i],img1Matches[1,i],0)\n",
    "\t\n",
    "\tA[2*i+2*img1Matches.shape[1],11] = (fr - fl)/dkr\n",
    "\tA[2*i+1+2*img1Matches.shape[1],11] = (gr - gl)/dkr\n",
    "\t\n",
    "\t#f,x,y,ohm,phi,kap,X,Y,Z,XP,YP,ZP\n",
    "\tfr,gr = computeCollinearity(f,cx,cy,Or,pr,kr,Xr,Yr+dYr,Zr,img1Matches[0,i],img1Matches[1,i],0) \n",
    "\tfl,gl = computeCollinearity(f,cx,cy,Or,pr,kr,Xr,Yr-dYr,Zr,img1Matches[0,i],img1Matches[1,i],0)\n",
    "\t\n",
    "\tA[2*i+2*img1Matches.shape[1],7] = (fr - fl)/dYr\n",
    "\tA[2*i+1+2*img1Matches.shape[1],7] = (gr - gl)/dYr\n",
    "\t\n",
    "\t#f,x,y,ohm,phi,kap,X,Y,Z,XP,YP,ZP\n",
    "\tfr,gr = computeCollinearity(f,cx,cy,Or,pr,kr,Xr,Yr,Zr+dZr,img1Matches[0,i],img1Matches[1,i],0) \n",
    "\tfl,gl = computeCollinearity(f,cx,cy,Or,pr,kr,Xr,Yr,Zr+dZr,img1Matches[0,i],img1Matches[1,i],0)\n",
    "\t\n",
    "\tA[2*i+2*img1Matches.shape[1],8] = (fr - fl)/dZr\n",
    "\tA[2*i+1+2*img1Matches.shape[1],8] = (gr - gl)/dZr\n",
    "\t\n",
    "\t#f,x,y,ohm,phi,kap,X,Y,Z,XP,YP,ZP\n",
    "\tfr,gr = computeCollinearity(f,cx,cy,Or,pr,kr,Xr,Yr,Zr,img1Matches[0,i]+dXP,img1Matches[1,i],0) \n",
    "\tfl,gl = computeCollinearity(f,cx,cy,Or,pr,kr,Xr,Yr,Zr,img1Matches[0,i]-dXP,img1Matches[1,i],0)\n",
    "\t\n",
    "\tA[2*i+2*img1Matches.shape[1],3*i+12] = (fr - fl)/dXP\n",
    "\tA[2*i+1+2*img1Matches.shape[1],3*i+12] = (gr - gl)/dXP\n",
    "\t\t\n",
    "\t#f,x,y,ohm,phi,kap,X,Y,Z,XP,YP,ZP\n",
    "\tfr,gr = computeCollinearity(f,cx,cy,Or,pr,kr,Xr,Yr,Zr,img1Matches[0,i],img1Matches[1,i]+dYP,0) \n",
    "\tfl,gl = computeCollinearity(f,cx,cy,Or,pr,kr,Xr,Yr,Zr,img1Matches[0,i],img1Matches[1,i]-dYP,0)\n",
    "\t\n",
    "\tA[2*i+2*img1Matches.shape[1],3*i+13] = (fr - fl)/dYP\n",
    "\tA[2*i+1+2*img1Matches.shape[1],3*i+13] = (gr - gl)/dYP\n",
    "\t\t\n",
    "\t#f,x,y,ohm,phi,kap,X,Y,Z,XP,YP,ZP\n",
    "\tfr,gr = computeCollinearity(f,cx,cy,Or,pr,kr,Xr,Yr,Zr,img1Matches[0,i],img1Matches[1,i],0+dZP) \n",
    "\tfl,gl = computeCollinearity(f,cx,cy,Or,pr,kr,Xr,Yr,Zr,img1Matches[0,i],img1Matches[1,i],0-dZP)\n",
    "\t\n",
    "\tA[2*i+2*img1Matches.shape[1],3*i+14] = (fr - fl)/dZP\n",
    "\tA[2*i+1+2*img1Matches.shape[1],3*i+14] = (gr - gl)/dZP\n",
    "\n",
    "\tptCalc = computeCollinearity(f,cx,cy,ol,pl,kl,Xl,Yl,Zl,img1Matches[0,i],img1Matches[1,i],0)\n",
    "\tl.append(img2Matches[0,i] - ptCalc[0])\n",
    "\tl.append(img2Matches[1,i] - ptCalc[1])"
   ]
  },
  {
   "cell_type": "code",
   "execution_count": 149,
   "metadata": {
    "collapsed": false
   },
   "outputs": [
    {
     "data": {
      "image/png": "[encoded data removed]",
      "text/plain": [
       "<matplotlib.figure.Figure at 0x7f67b8060b10>"
      ]
     },
     "metadata": {},
     "output_type": "display_data"
    }
   ],
   "source": [
    "plt.figure(figsize=(15, 11))\n",
    "plt.imshow(A)\n",
    "plt.show()"
   ]
  },
  {
   "cell_type": "code",
   "execution_count": 150,
   "metadata": {
    "collapsed": false
   },
   "outputs": [
    {
     "data": {
      "text/plain": [
       "20.900590668547011"
      ]
     },
     "execution_count": 150,
     "metadata": {},
     "output_type": "execute_result"
    }
   ],
   "source": [
    "A[2*img1Matches.shape[1]:].max()"
   ]
  },
  {
   "cell_type": "code",
   "execution_count": 151,
   "metadata": {
    "collapsed": true
   },
   "outputs": [],
   "source": [
    "l = np.array(l)\n",
    "x = np.array(x)\n",
    "N = np.dot(A.T,A)"
   ]
  },
  {
   "cell_type": "code",
   "execution_count": 152,
   "metadata": {
    "collapsed": true
   },
   "outputs": [],
   "source": [
    "Nsvd = np.linalg.svd(N)\n",
    "Ninv = np.dot(Nsvd[2].T,np.dot(np.diag(1.0/Nsvd[1]),Nsvd[0].T))\n",
    "dx = np.dot(Ninv,np.dot(A.T,l))\n",
    "X = x + dx"
   ]
  },
  {
   "cell_type": "code",
   "execution_count": 153,
   "metadata": {
    "collapsed": false
   },
   "outputs": [
    {
     "data": {
      "image/png": "[encoded data removed]",
      "text/plain": [
       "<matplotlib.figure.Figure at 0x7f67b0058b90>"
      ]
     },
     "metadata": {},
     "output_type": "display_data"
    }
   ],
   "source": [
    "plt.figure(figsize=(15, 15))\n",
    "plt.imshow(N)\n",
    "plt.show()"
   ]
  },
  {
   "cell_type": "code",
   "execution_count": 154,
   "metadata": {
    "collapsed": false
   },
   "outputs": [
    {
     "data": {
      "image/png": "[encoded data removed]",
      "text/plain": [
       "<matplotlib.figure.Figure at 0x7f67a82d0590>"
      ]
     },
     "metadata": {},
     "output_type": "display_data"
    }
   ],
   "source": [
    "plt.figure(figsize=(15, 15))\n",
    "plt.imshow(Ninv)\n",
    "plt.show()"
   ]
  },
  {
   "cell_type": "code",
   "execution_count": 155,
   "metadata": {
    "collapsed": false
   },
   "outputs": [
    {
     "data": {
      "text/plain": [
       "array([  0.00000000e+00,   0.00000000e+00,   4.27913700e+02,\n",
       "         0.00000000e+00,   0.00000000e+00,   0.00000000e+00,\n",
       "         1.00000000e+00,   4.04456787e+01,   5.56463444e+02,\n",
       "        -9.83005974e-01,  -5.76782227e-02,  -8.74176025e-02,\n",
       "        -6.79256301e+01,  -7.82538147e+01,   1.49874051e+01,\n",
       "        -9.47931346e+01,  -7.41039124e+01,   1.39170732e+01,\n",
       "        -9.47931346e+01,  -7.41040344e+01,   1.39170723e+01,\n",
       "        -1.65567674e+02,  -5.72670441e+01,   1.13981338e+01,\n",
       "        -1.63667588e+02,  -4.63772125e+01,   1.09176704e+01,\n",
       "        -1.57721214e+02,  -3.97687073e+01,   1.09780170e+01,\n",
       "         6.94213547e+01,  -3.98775330e+01,   2.74255526e+01,\n",
       "         5.94546798e+01,  -3.33356476e+01,   3.45072646e+01,\n",
       "         6.80785860e+01,  -2.85594864e+01,   3.04137487e+01,\n",
       "        -3.50134159e+01,  -2.90290375e+01,  -1.27164793e+01,\n",
       "         6.72096291e+01,  -1.26708450e+01,   3.46300199e+01,\n",
       "         1.68154682e+02,  -1.79599228e+01,  -4.68922853e-02,\n",
       "        -1.07933585e+01,  -6.25607681e+01,  -4.50720684e+02,\n",
       "         6.71493807e+01,  -1.02123413e+01,   3.56588330e+01,\n",
       "         6.48386030e+01,  -3.18079376e+00,   3.75110772e+01,\n",
       "         1.65089293e+02,  -5.43196106e+00,   8.25202465e-01,\n",
       "         1.72695388e+02,  -3.71298218e+00,   2.33104587e-01,\n",
       "        -6.30202499e+01,   1.77739182e+01,   4.08146698e+01,\n",
       "        -4.34147921e+01,   1.98216553e+01,   6.10418484e+01,\n",
       "        -6.95478415e+01,   1.94697418e+01,   3.75631781e+01,\n",
       "         5.51607512e+01,   2.34097443e+01,   4.99078918e+01,\n",
       "        -7.87755936e+01,   2.85289307e+01,   3.90794320e+01,\n",
       "         1.18281751e+02,   2.64734039e+01,   5.09534514e+00,\n",
       "        -1.16498619e+02,   3.17239685e+01,   2.54032339e+01,\n",
       "         1.42130822e+02,   2.78542328e+01,   3.05633962e+00,\n",
       "        -1.46487868e+02,   3.42678223e+01,   1.85837625e+01,\n",
       "        -1.36595416e+02,   3.71685028e+01,   2.20689391e+01,\n",
       "        -1.44974613e+02,   4.47284698e+01,   2.35537437e+01,\n",
       "         7.13053541e+01,   4.38776855e+01,   2.75954835e+01,\n",
       "         9.93079552e+01,   7.77128296e+01,   1.82347009e+01,\n",
       "        -2.18508112e+00,   8.29430695e+01,   1.18279726e+02,\n",
       "         3.30049795e+01,   1.23498169e+02,  -5.39604950e+00,\n",
       "        -1.94673350e+01,   1.42377090e+02,   5.11927223e+01,\n",
       "         5.12281465e+01,   1.61216476e+02,  -1.33362088e+01,\n",
       "         9.58830476e+01,   1.59122711e+02,  -2.69764876e+00,\n",
       "         1.94657489e+02,   1.67817413e+02,  -1.09716594e+01,\n",
       "         1.18425046e+02,   1.67075638e+02,  -3.24978614e+00,\n",
       "         1.23382424e+02,   1.72920364e+02,  -4.15069127e+00,\n",
       "         2.04521624e+02,   1.74905685e+02,  -1.04609120e+01,\n",
       "        -1.55085613e+02,  -3.72797241e+01,   1.12624677e+01,\n",
       "        -1.55085613e+02,  -3.72798004e+01,   1.12624673e+01,\n",
       "         6.86284306e+01,  -3.69997482e+01,   2.87564249e+01,\n",
       "         6.62223626e+01,  -2.52334442e+01,   3.23716011e+01,\n",
       "         2.73006469e+01,   2.33467102e+00,   1.13151845e+02,\n",
       "         1.58493007e+02,  -9.08785248e+00,   4.73505139e-01,\n",
       "         1.60578083e+02,  -5.94859314e+00,   9.70705748e-01,\n",
       "         1.60578083e+02,  -5.94850159e+00,   9.70704556e-01,\n",
       "         6.47835644e+01,  -7.80517578e-01,   3.84022119e+01,\n",
       "         1.42320460e+02,   2.39641876e+01,   2.73552263e+00,\n",
       "         1.77624608e+02,   2.62241211e+01,   1.30512416e+00,\n",
       "         1.45482156e+02,   2.95550232e+01,   2.90866280e+00,\n",
       "         1.78143036e+02,   2.99727020e+01,   1.59894550e+00,\n",
       "         1.78143036e+02,   2.99726257e+01,   1.59894574e+00,\n",
       "        -1.41784481e+02,   4.57106934e+01,   2.37004199e+01,\n",
       "         1.68584717e+02,   5.19135284e+01,   2.93725824e+00,\n",
       "         4.07611958e+01,   6.56289673e+01,   1.31429038e+01,\n",
       "         9.22403430e+01,   7.34164276e+01,   1.42806852e+01,\n",
       "         1.60608544e+02,   7.29905701e+01,   3.00695837e+00,\n",
       "         1.60608544e+02,   7.29903717e+01,   3.00695872e+00,\n",
       "         7.58083091e+01,   8.48719025e+01,   1.41070447e+01,\n",
       "         1.49182999e+02,   9.15672607e+01,   2.46227479e+00,\n",
       "         5.03586499e+01,   1.04103943e+02,   9.49272251e+00,\n",
       "         5.58131814e+01,   1.13718674e+02,   9.37023211e+00,\n",
       "         2.67352115e+01,   1.20220276e+02,  -1.00842676e+01,\n",
       "         2.67352115e+01,   1.20220215e+02,  -1.00842772e+01,\n",
       "         2.04243476e+02,   1.17750641e+02,  -7.39000952e+00,\n",
       "         3.19933489e+01,   1.20119934e+02,  -4.05106163e+00,\n",
       "         3.19933489e+01,   1.20119995e+02,  -4.05106497e+00,\n",
       "         1.97330056e+02,   1.27941223e+02,  -6.66927314e+00,\n",
       "         1.99551963e+02,   1.30112549e+02,  -5.65747654e+00,\n",
       "        -4.80294662e+01,   3.41484680e+01,   1.38404626e+02,\n",
       "         2.05356743e+02,   1.69878479e+02,  -1.11520331e+01,\n",
       "         2.05356743e+02,   1.69878372e+02,  -1.11520334e+01,\n",
       "         6.69938594e+01,   1.75033340e+02,  -1.26310728e+01,\n",
       "        -6.89947237e+01,  -8.43039932e+01,   1.63775810e+01,\n",
       "        -1.01398850e+02,  -7.69187927e+01,   1.62935295e+01,\n",
       "        -9.71855980e+01,  -7.66872940e+01,   1.55831451e+01,\n",
       "        -9.12987430e+01,  -7.73146057e+01,   1.41645726e+01,\n",
       "        -1.19614537e+02,  -5.84896240e+01,   5.96759498e+00,\n",
       "         5.96291615e+01,  -1.77696838e+01,   3.78194697e+01,\n",
       "        -1.22063951e+02,  -2.20175934e+00,   1.88054563e+01,\n",
       "        -1.16410996e+02,  -2.93899536e-01,   1.94858570e+01,\n",
       "         1.62807749e+02,   3.41157532e+00,   1.00833786e+00,\n",
       "         4.81586792e+01,   2.39687958e+01,   7.01101894e+01,\n",
       "         1.15187684e+02,   3.41706848e+01,   5.14283264e+00,\n",
       "         1.15187684e+02,   3.41708069e+01,   5.14283359e+00,\n",
       "         8.08184786e+01,   8.49607544e+01,   1.37949231e+01,\n",
       "         4.36314242e+00,  -4.31434631e-01,   6.34924164e+02,\n",
       "         4.36314242e+00,  -4.31404114e-01,   6.34924423e+02,\n",
       "         2.02926990e+02,   1.20235382e+02,  -5.07524812e+00,\n",
       "         4.39198287e+01,   1.23802826e+02,   8.94604683e-01,\n",
       "         1.95800488e+02,   1.37238907e+02,  -6.87095964e+00,\n",
       "         1.95800488e+02,   1.37239090e+02,  -6.87095988e+00,\n",
       "         4.38799203e+01,   1.46812927e+02,  -1.10112758e+01,\n",
       "         4.38799203e+01,   1.46812653e+02,  -1.10112782e+01,\n",
       "        -1.92135156e+01,   1.39517761e+02,   4.92546625e+01,\n",
       "        -5.20714413e+01,  -4.54114380e+01,  -2.64794946e+00,\n",
       "        -1.35187533e+02,  -3.49427261e+01,   1.34851218e+01,\n",
       "         1.55170106e+02,  -1.62074661e+01,   3.00583243e-01,\n",
       "         2.64472192e+01,   3.20404816e+00,   1.21571805e+02,\n",
       "        -1.87663855e+01,   1.29360886e+01,   9.09996033e+00,\n",
       "         3.57744054e+01,   1.63714600e+01,   9.81085997e+01,\n",
       "         1.73495506e+02,   3.18305206e+01,   1.12907493e+00,\n",
       "         3.64999576e+01,   4.04346008e+01,   7.72000041e+01,\n",
       "         1.25914421e+02,   8.22932281e+01,   5.63650763e+00,\n",
       "         1.25914421e+02,   8.22931671e+01,   5.63650703e+00,\n",
       "         5.09581674e+00,  -7.49350128e+01,   1.13333685e+03,\n",
       "         2.10563727e+01,   1.02343307e+02,  -1.14256496e+01,\n",
       "         1.95659812e+00,   6.48873138e+01,   2.61815704e+02,\n",
       "         3.86374270e+01,   1.14883270e+02,   1.68130875e-01,\n",
       "         4.44846701e+01,   1.18316864e+02,   3.37387371e+00,\n",
       "         4.36643679e+01,   1.23598679e+02,   2.18341875e+00,\n",
       "         1.15548622e+02,   1.33035172e+02,   4.52634454e+00,\n",
       "        -1.63658026e+02,  -6.24501877e+01,   1.19681873e+01,\n",
       "        -1.52775091e+02,  -6.23523102e+01,   1.35263036e+01,\n",
       "        -1.20992945e+02,  -5.95252228e+01,   3.53704083e+00,\n",
       "        -8.95349519e+01,  -5.79185333e+01,   1.39225063e+01,\n",
       "        -1.60530776e+02,  -4.12471008e+01,   1.09345866e+01,\n",
       "         1.99966142e+02,  -2.49334869e+01,  -1.06544507e+00,\n",
       "        -7.84445150e+01,  -8.67018127e+00,   2.22392862e+01,\n",
       "        -1.10726401e+02,  -2.14263916e+00,   2.01861932e+01,\n",
       "         1.75701387e+02,   1.19023895e+00,   3.40301275e-01,\n",
       "         4.40971295e+01,   2.93664398e+01,   7.22247620e+01,\n",
       "        -1.36903751e+02,   3.47849731e+01,   2.22781813e+01,\n",
       "         8.65597123e+01,   4.36713562e+01,   2.17389071e+01,\n",
       "         1.45894255e+02,   4.42807922e+01,   6.68234599e+00,\n",
       "         1.26444167e+02,   8.16956329e+01,   4.73529148e+00,\n",
       "         1.32244500e+02,   8.49923859e+01,   5.27944934e+00,\n",
       "         1.32244500e+02,   8.49920959e+01,   5.27944815e+00,\n",
       "         1.36863641e+02,   9.13807526e+01,   2.83978748e+00,\n",
       "         1.36863641e+02,   9.13807678e+01,   2.83978665e+00,\n",
       "         1.53289003e+02,   1.02184494e+02,   2.81797194e+00,\n",
       "         3.65311513e+01,   1.07647827e+02,  -2.00290632e+00,\n",
       "         5.09300191e+01,   1.15677795e+02,   6.06277275e+00,\n",
       "         4.17571336e+01,   1.34334518e+02,  -5.32919216e+00,\n",
       "         4.17571336e+01,   1.34334610e+02,  -5.32918882e+00,\n",
       "        -1.08137281e+02,  -9.41635666e+01,  -1.40121643e+02,\n",
       "        -1.08137281e+02,  -7.83182144e+01,   1.70390477e+01,\n",
       "         3.18307107e+00,   1.28873367e+01,   3.14204813e+02,\n",
       "         1.41325794e+01,  -1.89900360e+01,   1.31615447e+02,\n",
       "        -4.49463212e+01,  -2.09122162e+01,  -1.18385971e+01,\n",
       "         1.63497465e+02,  -1.29893188e+01,   3.50249648e-01,\n",
       "         4.50443626e+01,   1.54556656e+01,   7.55965846e+01,\n",
       "        -3.81563202e+01,   1.77122803e+01,  -2.75166037e+02,\n",
       "         1.75186670e+02,   5.15371704e+01,   8.10288906e-01,\n",
       "         1.36785891e+02,   7.24909821e+01,   8.29237759e+00,\n",
       "        -8.76622828e+01,   1.52415237e+02,   1.09751060e+01,\n",
       "        -6.80767116e+01,  -7.20879517e+01,  -2.85795784e+00,\n",
       "         6.40297922e+01,  -4.30922852e+01,   2.90358484e+01,\n",
       "         3.03833990e+00,   1.43459854e+01,   3.21857994e+02,\n",
       "         1.53743915e+01,  -2.30448685e+01,   1.09549821e+02,\n",
       "        -3.53853652e+01,  -1.72436523e+01,  -7.12236404e-01,\n",
       "         6.14797441e+01,  -1.29168167e+01,   3.84260669e+01,\n",
       "         5.05308501e+01,   5.07843781e+00,   6.31625071e+01,\n",
       "         1.64100350e+02,  -2.34580231e+00,   8.35987449e-01,\n",
       "         1.43746268e+02,   1.46724701e+01,   2.00223160e+00,\n",
       "         1.88046205e+02,   1.45614166e+01,  -6.96584702e-01,\n",
       "         1.35648068e+02,   2.51147003e+01,   2.43340862e+00,\n",
       "         6.34558815e+01,   3.19460449e+01,   3.90806997e+01,\n",
       "         1.22715510e+02,   3.39861755e+01,   4.62363601e+00,\n",
       "         4.93556224e+01,   3.57203979e+01,   5.39182010e+01,\n",
       "         7.28724579e+01,   4.12566528e+01,   2.87609448e+01,\n",
       "         1.02824204e+02,   8.53188171e+01,   1.07457671e+01,\n",
       "        -1.13099294e+02,  -7.20386353e+01,   5.63524520e+00,\n",
       "        -1.31475352e+02,  -4.53156967e+01,   1.45273490e+01,\n",
       "         4.89006309e+01,  -1.71731339e+01,   5.01640098e+01,\n",
       "         6.55650892e+01,   5.21280212e+01,   2.76465991e+01,\n",
       "         1.66644773e+02,   9.84693604e+01,   2.54505563e+00,\n",
       "        -1.27998301e+02,  -6.29405060e+01,   8.12699103e+00,\n",
       "        -3.16157258e+00,  -5.05487228e+02,  -2.01535472e+03,\n",
       "        -5.37548908e+01,  -2.35107727e+01,   1.34813149e+01,\n",
       "         2.70401569e+01,  -1.24024887e+01,   8.92123685e+01,\n",
       "         5.72932433e+01,   7.14797821e+01,   1.90800734e+01,\n",
       "         1.26232709e+02,   1.26870651e+01,   5.43885779e+00,\n",
       "        -2.19353716e+01,   3.77564545e+01,   1.35252874e+02,\n",
       "         1.29355728e+02,   4.54765167e+01,   6.77190542e+00,\n",
       "         1.88511792e+01,   5.30410919e+01,   1.41565075e+01,\n",
       "         1.52590721e+02,   8.26967621e+01,   5.04293561e+00,\n",
       "         7.90306620e+00,   4.22530060e+01,   4.60114883e+02,\n",
       "        -1.20599557e+02,   1.00491104e+01,   2.90284808e+01,\n",
       "         1.60199911e+02,   1.98624420e+01,   1.48251534e+00,\n",
       "         1.49031378e+01,   2.99075012e+01,   2.30301831e+02,\n",
       "         3.12459768e+01,   8.85785522e+01,  -1.79782238e+01,\n",
       "         2.30371533e+01,  -4.88113403e+01,   6.75917878e+01,\n",
       "        -1.52395654e+02,  -2.45866776e+01,   1.28209530e+01,\n",
       "        -8.74584781e+01,  -3.16315155e+01,   1.48483038e+01])"
      ]
     },
     "execution_count": 155,
     "metadata": {},
     "output_type": "execute_result"
    }
   ],
   "source": [
    "X"
   ]
  },
  {
   "cell_type": "code",
   "execution_count": 156,
   "metadata": {
    "collapsed": false
   },
   "outputs": [
    {
     "data": {
      "text/plain": [
       "-2015.3547210693359"
      ]
     },
     "execution_count": 156,
     "metadata": {},
     "output_type": "execute_result"
    }
   ],
   "source": [
    "X[12:].min()"
   ]
  },
  {
   "cell_type": "code",
   "execution_count": 157,
   "metadata": {
    "collapsed": false
   },
   "outputs": [],
   "source": [
    "v = l - np.dot(A,X)"
   ]
  },
  {
   "cell_type": "code",
   "execution_count": 158,
   "metadata": {
    "collapsed": false
   },
   "outputs": [
    {
     "data": {
      "text/plain": [
       "293.68306857359755"
      ]
     },
     "execution_count": 158,
     "metadata": {},
     "output_type": "execute_result"
    }
   ],
   "source": [
    "np.sqrt(np.dot(v.T,v)/(A.shape[0]-A.shape[1]))"
   ]
  }
 ],
 "metadata": {
  "kernelspec": {
   "display_name": "Python 2",
   "language": "python",
   "name": "python2"
  },
  "language_info": {
   "codemirror_mode": {
    "name": "ipython",
    "version": 2
   },
   "file_extension": ".py",
   "mimetype": "text/x-python",
   "name": "python",
   "nbconvert_exporter": "python",
   "pygments_lexer": "ipython2",
   "version": "2.7.6"
  }
 },
 "nbformat": 4,
 "nbformat_minor": 0
}
