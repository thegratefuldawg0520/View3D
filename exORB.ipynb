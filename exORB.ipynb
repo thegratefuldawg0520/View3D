{
 "cells": [
  {
   "cell_type": "markdown",
   "metadata": {
    "deletable": true,
    "editable": true
   },
   "source": [
    "# Plotting the SIFT keypoint detector and feature descriptor error function\n",
    "This document contains an experiment in which different keypoint detector and feature descriptor combinations are used to detect and uniquely describe common points of interest in image pairs. The goal of this experiment is to explore the effects that varying the values of the different input parameters of the detector/descriptors have on the frequency of inlier matches when computing a 3D relationship between images based upon epipolar geometry."
   ]
  },
  {
   "cell_type": "markdown",
   "metadata": {
    "deletable": true,
    "editable": true
   },
   "source": [
    "## Hypothesis\n",
    "\n",
    "There exists an optimal set of descriptor/detector parameters that can minimize the number of outlier match pairs computer over a set of images."
   ]
  },
  {
   "cell_type": "markdown",
   "metadata": {
    "deletable": true,
    "editable": true
   },
   "source": [
    "## Experimental Design\n",
    "1. Select three image sets:\n",
    "    1. Nadir Facing Projective Camera.\n",
    "    2. Nadir Facing Fisheye Camera.\n",
    "    3. Oblique Camera.\n",
    "3. Define a bound and a step size for the different parameters.\n",
    "4. Load the images and initialize the Descriptor/Detector to the openCV initial values.\n",
    "5. For each image in the image set compute the keypoints and descriptors.\n",
    "6. For each pair of consecutive images, match corresponding keypoints.\n",
    "7. Estimate the fundamental matrix between the image pair and compute the inliers and outliers for the image pair.\n",
    "8. Sum the the number of inliers, outliers and total computed matches for the entire sequence.\n",
    "9. Select one parameter and vary it by the step size.\n",
    "10. Repeat steps 5 - 9 while varying the selected parameter until it reaches the bounds.\n",
    "11. Reset the parameter to its initial value.\n",
    "12. Select a new parameter to vary and repeat 10.\n",
    "13. Perform 3 - 12 for each image type.\n",
    "\n",
    "This experiment will result in a function for each parameter that corresponds to its behaviour about the point corresponding to the openCV initial values.\n",
    "    \n",
    "    "
   ]
  },
  {
   "cell_type": "markdown",
   "metadata": {
    "deletable": true,
    "editable": true
   },
   "source": [
    "## Experiment\n",
    "To begin we import the necessary python packages including the custom built image processing modules"
   ]
  },
  {
   "cell_type": "code",
   "execution_count": 1,
   "metadata": {
    "collapsed": false,
    "deletable": true,
    "editable": true,
    "scrolled": true
   },
   "outputs": [],
   "source": [
    "%matplotlib inline\n",
    "import image as im\n",
    "import matching as mt\n",
    "import imageUtility as ut\n",
    "import transforms as tn\n",
    "import numpy as np\n",
    "import matplotlib.pyplot as plt"
   ]
  },
  {
   "cell_type": "markdown",
   "metadata": {
    "deletable": true,
    "editable": true
   },
   "source": [
    "### Select three image sets\n",
    "The following three image datasets are used:\n",
    "* __Nadir Facing Perspective Camera:__ Glacier images from the Sensefly eBee RTK\n",
    "* __Nadir Facing Fisheye Camera:__ Images of the Quatre Fourches River in Wood Buffalo National Park, Alberta, Canada\n",
    "* __Oblique Perspective Camera:__ Images of an office space\n",
    "\n",
    "In this experiment we operate on the raw, unprojected images. Therefore we do not account for any lense distortion nor the internal imaging geometry.\n",
    "\n",
    "### Define a bound and a step size for the different parameters\n",
    "In this experiment we will explore the following parameters:\n",
    "\n",
    "| Parameter | Description | Initial Value | Step Size | Bounds |\n",
    "| --- | --- | --- | --- | --- |\n",
    "|# Features | _desc_ | 10000| 0 | - |\n",
    "|# Octave Layers | _desc_ | 3| 1 | 1 - 5 |\n",
    "|Contrast Threshold | _desc_ | 0.04| 0.01 | 0.01 - 0.08 |\n",
    "|Edge Threshold | _desc_ | 10| 1 | 5 - 15 |\n",
    "|Sigma | _desc_ | 1.6 | 0.1 | 1.0 - 2.0 | \n",
    "\n"
   ]
  },
  {
   "cell_type": "code",
   "execution_count": 13,
   "metadata": {
    "collapsed": false,
    "deletable": true,
    "editable": true,
    "scrolled": true
   },
   "outputs": [],
   "source": [
    "scaleFactor=1.2\n",
    "nlevels=8\n",
    "edgeThreshold=31\n",
    "firstLevel=0\n",
    "WTA_K=2\n",
    "patchSize=31\n",
    "\n",
    "imgDir = {'glacier':{'dir':'/home/dennis/Documents/View3D/images/glacier/','ext':'.JPG'},\n",
    "            'wbnp':{'dir':'/home/dennis/Documents/View3D/images/wbnp/','ext':'.JPG'},\n",
    "            'desk':{'dir':'/home/dennis/Documents/View3D/images/cathedral/','ext':'.JPG'}\n",
    "           }\n",
    "\n",
    "imgRange = range(1,9)\n",
    "\n",
    "imageParams = {'scale':0.15,\n",
    "               'kp':'orb',\n",
    "               'scaleFactor':scaleFactor,\n",
    "               'nlevels':nlevels,\n",
    "               'edgeThreshold':edgeThreshold,\n",
    "               'firstLevel':firstLevel,\n",
    "               'WTA_K':WTA_K,\n",
    "               'patchSize':patchSize\n",
    "              }\n",
    "\n",
    "params = {'scaleFactor':{'step':0.1,'iv':1.1,'bdy':2.0},\n",
    "          'nlevels':{'step':1,'iv':1,'bdy':16},\n",
    "          'edgeThreshold':{'step':5,'iv':11,'bdy':51},\n",
    "          'firstLevel':{'step':1,'iv':0,'bdy':1},\n",
    "          'WTA_K':{'step':1,'iv':1,'bdy':5},\n",
    "          'edgeThreshold':{'step':5,'iv':11,'bdy':51}\n",
    "         }"
   ]
  },
  {
   "cell_type": "markdown",
   "metadata": {
    "collapsed": true,
    "deletable": true,
    "editable": true
   },
   "source": [
    "### Open Images and Initialize the Descriptor/Detector to the openCV initial values\n",
    "A custom function is created, using the image class, which creates an image object for each image in the image set, and compute the keypoints and feature descriptors corresponding to the default openCV values"
   ]
  },
  {
   "cell_type": "code",
   "execution_count": 4,
   "metadata": {
    "collapsed": false,
    "deletable": true,
    "editable": true,
    "scrolled": true
   },
   "outputs": [],
   "source": [
    "def openImages(imgRange,imgDir,imgParams,imgSet):\n",
    "    \n",
    "    images = []\n",
    "\n",
    "\n",
    "    for i in imgRange:\n",
    "        \n",
    "        images.append(im.image(imgDir[imgSet]['dir'] + str(i) + imgDir[imgSet]['ext'],imgParams))\n",
    "        \n",
    "    return images\n",
    "    "
   ]
  },
  {
   "cell_type": "markdown",
   "metadata": {
    "deletable": true,
    "editable": true
   },
   "source": [
    "### Plot Results\n",
    "A custom function is created, using pyplot, which creates a line plots for each parameter variation. The x-axis corresponds to the parameter value, and the y axis correponds to the number of matches. Two curves are plotted:\n",
    "1. total number of matches.\n",
    "2. number of outlier matches."
   ]
  },
  {
   "cell_type": "code",
   "execution_count": 5,
   "metadata": {
    "collapsed": false,
    "deletable": true,
    "editable": true
   },
   "outputs": [],
   "source": [
    "def plotResults(results):\n",
    "    \n",
    "    plt.figure(1,figsize=(12,12))\n",
    "    i = 0\n",
    "    \n",
    "    for param in results.keys():\n",
    "        \n",
    "        values = np.array(results[param]['value'])\n",
    "        inlier = np.array(results[param]['inlierCount'])\n",
    "        outlier = np.array(results[param]['outlierCount'])\n",
    "        \n",
    "        spVal = 221+i\n",
    "        \n",
    "        plt.subplot(spVal)\n",
    "        plt.plot(values,outlier,label='outlier')\n",
    "        plt.plot(values,outlier+inlier,label='total matches')\n",
    "        plt.legend()\n",
    "        plt.title(param)\n",
    "\n",
    "        i+=1\n",
    "        \n",
    "    plt.subplots_adjust(left=0.10, right=0.95, hspace=0.8, wspace=0.8)"
   ]
  },
  {
   "cell_type": "markdown",
   "metadata": {
    "deletable": true,
    "editable": true
   },
   "source": [
    "### Experiment\n",
    "A custom function is created to generate the experimental results. The function can be applied to any keypoint detector and descriptor pair available in the image and matching toolbox."
   ]
  },
  {
   "cell_type": "code",
   "execution_count": 6,
   "metadata": {
    "collapsed": true,
    "deletable": true,
    "editable": true
   },
   "outputs": [],
   "source": [
    "def computeExperiment(imageSet,params,imageParams):\n",
    "    \n",
    "    results = {}\n",
    "        \n",
    "    for parameter in params.keys():\n",
    "\n",
    "        print '*********** ' + parameter + ' ************'\n",
    "        \n",
    "        results[parameter] = {'value':[],'inlierCount':[],'outlierCount':[]}\n",
    "        \n",
    "        imgParams = {key: value for key, value in imageParams.items()}\n",
    "        \n",
    "        imgParams[parameter] = params[parameter]['iv']\n",
    "        print imgParams\n",
    "        \n",
    "        for j in np.arange(imgParams[parameter],params[parameter]['bdy'],params[parameter]['step']):\n",
    "\n",
    "            imgParams[parameter] = j\n",
    "\n",
    "            print '*********** ' + str(j) + ' ***********'\n",
    "\n",
    "            for img in imageSet:\n",
    "\n",
    "                img.computeKP(imgParams)\n",
    "\n",
    "            img1 = imageSet[0]\n",
    "            inlierSum = 0\n",
    "            outlierSum = 0\n",
    "\n",
    "            for img2 in imageSet[1:]:\n",
    "\n",
    "                F = tn.fundamental(img1,img2,imgParams)\n",
    "\n",
    "                inlierSum += F.inlierCount()\n",
    "                outlierSum += F.outlierCount()\n",
    "\n",
    "                img1 = img2   \n",
    "\n",
    "            results[parameter]['value'].append(imgParams[parameter])\n",
    "            results[parameter]['inlierCount'].append(inlierSum)\n",
    "            results[parameter]['outlierCount'].append(outlierSum)\n",
    "            \n",
    "    return results\n",
    "        "
   ]
  },
  {
   "cell_type": "markdown",
   "metadata": {
    "deletable": true,
    "editable": true
   },
   "source": [
    "## Glacier Images\n",
    "_Open and initialize the images_"
   ]
  },
  {
   "cell_type": "code",
   "execution_count": 7,
   "metadata": {
    "collapsed": false,
    "deletable": true,
    "editable": true
   },
   "outputs": [],
   "source": [
    "imgSet = openImages(imgRange,imgDir,imageParams,'glacier')"
   ]
  },
  {
   "cell_type": "markdown",
   "metadata": {
    "deletable": true,
    "editable": true
   },
   "source": [
    "_Compute the experiment._"
   ]
  },
  {
   "cell_type": "code",
   "execution_count": 14,
   "metadata": {
    "collapsed": false,
    "deletable": true,
    "editable": true
   },
   "outputs": [
    {
     "name": "stdout",
     "output_type": "stream",
     "text": [
      "*********** nlevels ************\n",
      "{'scale': 0.15, 'scaleFactor': 1.2, 'WTA_K': 2, 'kp': 'orb', 'edgeThreshold': 31, 'firstLevel': 0, 'nlevels': 1, 'patchSize': 31}\n",
      "*********** 1 ***********\n",
      "*********** 2 ***********\n",
      "*********** 3 ***********\n",
      "*********** 4 ***********\n",
      "*********** 5 ***********\n",
      "*********** 6 ***********\n",
      "*********** 7 ***********\n",
      "*********** 8 ***********\n",
      "*********** 9 ***********\n",
      "*********** 10 ***********\n",
      "*********** 11 ***********\n",
      "*********** 12 ***********\n",
      "*********** 13 ***********\n",
      "*********** 14 ***********\n",
      "*********** 15 ***********\n",
      "*********** scaleFactor ************\n",
      "{'scale': 0.15, 'scaleFactor': 1.1, 'WTA_K': 2, 'kp': 'orb', 'edgeThreshold': 31, 'firstLevel': 0, 'nlevels': 8, 'patchSize': 31}\n",
      "*********** 1.1 ***********\n",
      "*********** 1.2000000000000002 ***********\n",
      "*********** 1.3000000000000003 ***********\n",
      "*********** 1.4000000000000004 ***********\n",
      "*********** 1.5000000000000004 ***********\n",
      "*********** 1.6000000000000005 ***********\n",
      "*********** 1.7000000000000006 ***********\n",
      "*********** 1.8000000000000007 ***********\n",
      "*********** 1.9000000000000008 ***********\n",
      "*********** edgeThreshold ************\n",
      "{'scale': 0.15, 'scaleFactor': 1.2, 'WTA_K': 2, 'kp': 'orb', 'edgeThreshold': 11, 'firstLevel': 0, 'nlevels': 8, 'patchSize': 31}\n",
      "*********** 11 ***********\n",
      "*********** 16 ***********\n",
      "*********** 21 ***********\n",
      "*********** 26 ***********\n",
      "*********** 31 ***********\n",
      "*********** 36 ***********\n",
      "*********** 41 ***********\n",
      "*********** 46 ***********\n",
      "*********** firstLevel ************\n",
      "{'scale': 0.15, 'scaleFactor': 1.2, 'WTA_K': 2, 'kp': 'orb', 'edgeThreshold': 31, 'firstLevel': 0, 'nlevels': 8, 'patchSize': 31}\n",
      "*********** 0 ***********\n",
      "*********** WTA_K ************\n",
      "{'scale': 0.15, 'scaleFactor': 1.2, 'WTA_K': 1, 'kp': 'orb', 'edgeThreshold': 31, 'firstLevel': 0, 'nlevels': 8, 'patchSize': 31}\n",
      "*********** 1 ***********\n",
      "*********** 2 ***********\n",
      "*********** 3 ***********\n",
      "*********** 4 ***********\n"
     ]
    },
    {
     "data": {
      "text/plain": [
       "{'WTA_K': 2,\n",
       " 'edgeThreshold': 31,\n",
       " 'firstLevel': 0,\n",
       " 'kp': 'orb',\n",
       " 'nlevels': 8,\n",
       " 'patchSize': 31,\n",
       " 'scale': 0.15,\n",
       " 'scaleFactor': 1.2}"
      ]
     },
     "execution_count": 14,
     "metadata": {},
     "output_type": "execute_result"
    }
   ],
   "source": [
    "results = computeExperiment(imgSet,params,imageParams)\n",
    "imageParams"
   ]
  },
  {
   "cell_type": "markdown",
   "metadata": {
    "deletable": true,
    "editable": true
   },
   "source": [
    "_Plot the results_"
   ]
  },
  {
   "cell_type": "code",
   "execution_count": 15,
   "metadata": {
    "collapsed": false,
    "deletable": true,
    "editable": true
   },
   "outputs": [
    {
     "ename": "IndexError",
     "evalue": "index out of range",
     "output_type": "error",
     "traceback": [
      "\u001b[0;31m---------------------------------------------------------------------------\u001b[0m",
      "\u001b[0;31mIndexError\u001b[0m                                Traceback (most recent call last)",
      "\u001b[0;32m<ipython-input-15-e73122a40754>\u001b[0m in \u001b[0;36m<module>\u001b[0;34m()\u001b[0m\n\u001b[0;32m----> 1\u001b[0;31m \u001b[0mplotResults\u001b[0m\u001b[0;34m(\u001b[0m\u001b[0mresults\u001b[0m\u001b[0;34m)\u001b[0m\u001b[0;34m\u001b[0m\u001b[0m\n\u001b[0m",
      "\u001b[0;32m<ipython-input-5-dfbd392cfd5f>\u001b[0m in \u001b[0;36mplotResults\u001b[0;34m(results)\u001b[0m\n\u001b[1;32m     12\u001b[0m         \u001b[0mspVal\u001b[0m \u001b[0;34m=\u001b[0m \u001b[0;36m221\u001b[0m\u001b[0;34m+\u001b[0m\u001b[0mi\u001b[0m\u001b[0;34m\u001b[0m\u001b[0m\n\u001b[1;32m     13\u001b[0m \u001b[0;34m\u001b[0m\u001b[0m\n\u001b[0;32m---> 14\u001b[0;31m         \u001b[0mplt\u001b[0m\u001b[0;34m.\u001b[0m\u001b[0msubplot\u001b[0m\u001b[0;34m(\u001b[0m\u001b[0mspVal\u001b[0m\u001b[0;34m)\u001b[0m\u001b[0;34m\u001b[0m\u001b[0m\n\u001b[0m\u001b[1;32m     15\u001b[0m         \u001b[0mplt\u001b[0m\u001b[0;34m.\u001b[0m\u001b[0mplot\u001b[0m\u001b[0;34m(\u001b[0m\u001b[0mvalues\u001b[0m\u001b[0;34m,\u001b[0m\u001b[0moutlier\u001b[0m\u001b[0;34m,\u001b[0m\u001b[0mlabel\u001b[0m\u001b[0;34m=\u001b[0m\u001b[0;34m'outlier'\u001b[0m\u001b[0;34m)\u001b[0m\u001b[0;34m\u001b[0m\u001b[0m\n\u001b[1;32m     16\u001b[0m         \u001b[0mplt\u001b[0m\u001b[0;34m.\u001b[0m\u001b[0mplot\u001b[0m\u001b[0;34m(\u001b[0m\u001b[0mvalues\u001b[0m\u001b[0;34m,\u001b[0m\u001b[0moutlier\u001b[0m\u001b[0;34m+\u001b[0m\u001b[0minlier\u001b[0m\u001b[0;34m,\u001b[0m\u001b[0mlabel\u001b[0m\u001b[0;34m=\u001b[0m\u001b[0;34m'total matches'\u001b[0m\u001b[0;34m)\u001b[0m\u001b[0;34m\u001b[0m\u001b[0m\n",
      "\u001b[0;32m/usr/lib/pymodules/python2.7/matplotlib/pyplot.pyc\u001b[0m in \u001b[0;36msubplot\u001b[0;34m(*args, **kwargs)\u001b[0m\n\u001b[1;32m    895\u001b[0m \u001b[0;34m\u001b[0m\u001b[0m\n\u001b[1;32m    896\u001b[0m     \u001b[0mfig\u001b[0m \u001b[0;34m=\u001b[0m \u001b[0mgcf\u001b[0m\u001b[0;34m(\u001b[0m\u001b[0;34m)\u001b[0m\u001b[0;34m\u001b[0m\u001b[0m\n\u001b[0;32m--> 897\u001b[0;31m     \u001b[0ma\u001b[0m \u001b[0;34m=\u001b[0m \u001b[0mfig\u001b[0m\u001b[0;34m.\u001b[0m\u001b[0madd_subplot\u001b[0m\u001b[0;34m(\u001b[0m\u001b[0;34m*\u001b[0m\u001b[0margs\u001b[0m\u001b[0;34m,\u001b[0m \u001b[0;34m**\u001b[0m\u001b[0mkwargs\u001b[0m\u001b[0;34m)\u001b[0m\u001b[0;34m\u001b[0m\u001b[0m\n\u001b[0m\u001b[1;32m    898\u001b[0m     \u001b[0mbbox\u001b[0m \u001b[0;34m=\u001b[0m \u001b[0ma\u001b[0m\u001b[0;34m.\u001b[0m\u001b[0mbbox\u001b[0m\u001b[0;34m\u001b[0m\u001b[0m\n\u001b[1;32m    899\u001b[0m     \u001b[0mbyebye\u001b[0m \u001b[0;34m=\u001b[0m \u001b[0;34m[\u001b[0m\u001b[0;34m]\u001b[0m\u001b[0;34m\u001b[0m\u001b[0m\n",
      "\u001b[0;32m/usr/lib/pymodules/python2.7/matplotlib/figure.pyc\u001b[0m in \u001b[0;36madd_subplot\u001b[0;34m(self, *args, **kwargs)\u001b[0m\n\u001b[1;32m    912\u001b[0m                     \u001b[0mself\u001b[0m\u001b[0;34m.\u001b[0m\u001b[0m_axstack\u001b[0m\u001b[0;34m.\u001b[0m\u001b[0mremove\u001b[0m\u001b[0;34m(\u001b[0m\u001b[0max\u001b[0m\u001b[0;34m)\u001b[0m\u001b[0;34m\u001b[0m\u001b[0m\n\u001b[1;32m    913\u001b[0m \u001b[0;34m\u001b[0m\u001b[0m\n\u001b[0;32m--> 914\u001b[0;31m             \u001b[0ma\u001b[0m \u001b[0;34m=\u001b[0m \u001b[0msubplot_class_factory\u001b[0m\u001b[0;34m(\u001b[0m\u001b[0mprojection_class\u001b[0m\u001b[0;34m)\u001b[0m\u001b[0;34m(\u001b[0m\u001b[0mself\u001b[0m\u001b[0;34m,\u001b[0m \u001b[0;34m*\u001b[0m\u001b[0margs\u001b[0m\u001b[0;34m,\u001b[0m \u001b[0;34m**\u001b[0m\u001b[0mkwargs\u001b[0m\u001b[0;34m)\u001b[0m\u001b[0;34m\u001b[0m\u001b[0m\n\u001b[0m\u001b[1;32m    915\u001b[0m \u001b[0;34m\u001b[0m\u001b[0m\n\u001b[1;32m    916\u001b[0m         \u001b[0mself\u001b[0m\u001b[0;34m.\u001b[0m\u001b[0m_axstack\u001b[0m\u001b[0;34m.\u001b[0m\u001b[0madd\u001b[0m\u001b[0;34m(\u001b[0m\u001b[0mkey\u001b[0m\u001b[0;34m,\u001b[0m \u001b[0ma\u001b[0m\u001b[0;34m)\u001b[0m\u001b[0;34m\u001b[0m\u001b[0m\n",
      "\u001b[0;32m/usr/lib/pymodules/python2.7/matplotlib/axes.pyc\u001b[0m in \u001b[0;36m__init__\u001b[0;34m(self, fig, *args, **kwargs)\u001b[0m\n\u001b[1;32m   9249\u001b[0m                 \u001b[0mself\u001b[0m\u001b[0;34m.\u001b[0m\u001b[0m_subplotspec\u001b[0m \u001b[0;34m=\u001b[0m \u001b[0mGridSpec\u001b[0m\u001b[0;34m(\u001b[0m\u001b[0mrows\u001b[0m\u001b[0;34m,\u001b[0m \u001b[0mcols\u001b[0m\u001b[0;34m)\u001b[0m\u001b[0;34m[\u001b[0m\u001b[0mnum\u001b[0m\u001b[0;34m[\u001b[0m\u001b[0;36m0\u001b[0m\u001b[0;34m]\u001b[0m \u001b[0;34m-\u001b[0m \u001b[0;36m1\u001b[0m\u001b[0;34m:\u001b[0m\u001b[0mnum\u001b[0m\u001b[0;34m[\u001b[0m\u001b[0;36m1\u001b[0m\u001b[0;34m]\u001b[0m\u001b[0;34m]\u001b[0m\u001b[0;34m\u001b[0m\u001b[0m\n\u001b[1;32m   9250\u001b[0m             \u001b[0;32melse\u001b[0m\u001b[0;34m:\u001b[0m\u001b[0;34m\u001b[0m\u001b[0m\n\u001b[0;32m-> 9251\u001b[0;31m                 \u001b[0mself\u001b[0m\u001b[0;34m.\u001b[0m\u001b[0m_subplotspec\u001b[0m \u001b[0;34m=\u001b[0m \u001b[0mGridSpec\u001b[0m\u001b[0;34m(\u001b[0m\u001b[0mrows\u001b[0m\u001b[0;34m,\u001b[0m \u001b[0mcols\u001b[0m\u001b[0;34m)\u001b[0m\u001b[0;34m[\u001b[0m\u001b[0mint\u001b[0m\u001b[0;34m(\u001b[0m\u001b[0mnum\u001b[0m\u001b[0;34m)\u001b[0m \u001b[0;34m-\u001b[0m \u001b[0;36m1\u001b[0m\u001b[0;34m]\u001b[0m\u001b[0;34m\u001b[0m\u001b[0m\n\u001b[0m\u001b[1;32m   9252\u001b[0m                 \u001b[0;31m# num - 1 for converting from MATLAB to python indexing\u001b[0m\u001b[0;34m\u001b[0m\u001b[0;34m\u001b[0m\u001b[0m\n\u001b[1;32m   9253\u001b[0m         \u001b[0;32melse\u001b[0m\u001b[0;34m:\u001b[0m\u001b[0;34m\u001b[0m\u001b[0m\n",
      "\u001b[0;32m/usr/lib/pymodules/python2.7/matplotlib/gridspec.pyc\u001b[0m in \u001b[0;36m__getitem__\u001b[0;34m(self, key)\u001b[0m\n\u001b[1;32m    174\u001b[0m                     \u001b[0mkey\u001b[0m \u001b[0;34m+=\u001b[0m \u001b[0mtotal\u001b[0m\u001b[0;34m\u001b[0m\u001b[0m\n\u001b[1;32m    175\u001b[0m                 \u001b[0;32mif\u001b[0m \u001b[0mkey\u001b[0m \u001b[0;34m>=\u001b[0m \u001b[0mtotal\u001b[0m \u001b[0;32mor\u001b[0m \u001b[0mkey\u001b[0m \u001b[0;34m<\u001b[0m \u001b[0;36m0\u001b[0m \u001b[0;34m:\u001b[0m\u001b[0;34m\u001b[0m\u001b[0m\n\u001b[0;32m--> 176\u001b[0;31m                     \u001b[0;32mraise\u001b[0m \u001b[0mIndexError\u001b[0m\u001b[0;34m(\u001b[0m\u001b[0;34m\"index out of range\"\u001b[0m\u001b[0;34m)\u001b[0m\u001b[0;34m\u001b[0m\u001b[0m\n\u001b[0m\u001b[1;32m    177\u001b[0m                 \u001b[0mnum1\u001b[0m\u001b[0;34m,\u001b[0m \u001b[0mnum2\u001b[0m \u001b[0;34m=\u001b[0m \u001b[0mkey\u001b[0m\u001b[0;34m,\u001b[0m \u001b[0mNone\u001b[0m\u001b[0;34m\u001b[0m\u001b[0m\n\u001b[1;32m    178\u001b[0m \u001b[0;34m\u001b[0m\u001b[0m\n",
      "\u001b[0;31mIndexError\u001b[0m: index out of range"
     ]
    },
    {
     "data": {
      "image/png": "[encoded data removed]",
      "text/plain": [
       "<matplotlib.figure.Figure at 0x7fa88f138dd0>"
      ]
     },
     "metadata": {},
     "output_type": "display_data"
    }
   ],
   "source": [
    "plotResults(results)"
   ]
  },
  {
   "cell_type": "markdown",
   "metadata": {
    "deletable": true,
    "editable": true
   },
   "source": [
    "_Display results_"
   ]
  },
  {
   "cell_type": "code",
   "execution_count": 16,
   "metadata": {
    "collapsed": false,
    "deletable": true,
    "editable": true
   },
   "outputs": [
    {
     "data": {
      "text/plain": [
       "{'WTA_K': {'inlierCount': [20288, 20288, 20288, 20288],\n",
       "  'outlierCount': [1285, 1285, 1285, 1285],\n",
       "  'value': [1, 2, 3, 4]},\n",
       " 'edgeThreshold': {'inlierCount': [324,\n",
       "   342,\n",
       "   357,\n",
       "   348,\n",
       "   20288,\n",
       "   19616,\n",
       "   19322,\n",
       "   17627],\n",
       "  'outlierCount': [21199, 21653, 21762, 21639, 1285, 1442, 1136, 2158],\n",
       "  'value': [11, 16, 21, 26, 31, 36, 41, 46]},\n",
       " 'firstLevel': {'inlierCount': [20288], 'outlierCount': [1285], 'value': [0]},\n",
       " 'nlevels': {'inlierCount': [20054,\n",
       "   20747,\n",
       "   21245,\n",
       "   20410,\n",
       "   20634,\n",
       "   20321,\n",
       "   20310,\n",
       "   20288,\n",
       "   19372,\n",
       "   18654,\n",
       "   18012,\n",
       "   17290,\n",
       "   17550,\n",
       "   17907,\n",
       "   16934],\n",
       "  'outlierCount': [763,\n",
       "   855,\n",
       "   707,\n",
       "   1760,\n",
       "   1672,\n",
       "   1978,\n",
       "   1717,\n",
       "   1285,\n",
       "   1720,\n",
       "   1888,\n",
       "   1993,\n",
       "   2291,\n",
       "   1667,\n",
       "   1059,\n",
       "   1797],\n",
       "  'value': [1, 2, 3, 4, 5, 6, 7, 8, 9, 10, 11, 12, 13, 14, 15]},\n",
       " 'scaleFactor': {'inlierCount': [21439,\n",
       "   20288,\n",
       "   15294,\n",
       "   14284,\n",
       "   13869,\n",
       "   13907,\n",
       "   13674,\n",
       "   13430,\n",
       "   13733],\n",
       "  'outlierCount': [2095, 1285, 1614, 1291, 1116, 965, 1028, 1121, 840],\n",
       "  'value': [1.1,\n",
       "   1.2000000000000002,\n",
       "   1.3000000000000003,\n",
       "   1.4000000000000004,\n",
       "   1.5000000000000004,\n",
       "   1.6000000000000005,\n",
       "   1.7000000000000006,\n",
       "   1.8000000000000007,\n",
       "   1.9000000000000008]}}"
      ]
     },
     "execution_count": 16,
     "metadata": {},
     "output_type": "execute_result"
    }
   ],
   "source": [
    "results"
   ]
  },
  {
   "cell_type": "markdown",
   "metadata": {
    "deletable": true,
    "editable": true
   },
   "source": [
    "## Wood Buffalo Images\n",
    "_Open and initialize the images_"
   ]
  },
  {
   "cell_type": "code",
   "execution_count": 17,
   "metadata": {
    "collapsed": true,
    "deletable": true,
    "editable": true
   },
   "outputs": [],
   "source": [
    "imgSet = openImages(imgRange,imgDir,imageParams,'wbnp')"
   ]
  },
  {
   "cell_type": "markdown",
   "metadata": {
    "deletable": true,
    "editable": true
   },
   "source": [
    "_Compute the experiment._"
   ]
  },
  {
   "cell_type": "code",
   "execution_count": 18,
   "metadata": {
    "collapsed": false,
    "deletable": true,
    "editable": true
   },
   "outputs": [
    {
     "name": "stdout",
     "output_type": "stream",
     "text": [
      "*********** nlevels ************\n",
      "{'scale': 0.15, 'scaleFactor': 1.2, 'WTA_K': 2, 'kp': 'orb', 'edgeThreshold': 31, 'firstLevel': 0, 'nlevels': 1, 'patchSize': 31}\n",
      "*********** 1 ***********\n",
      "*********** 2 ***********\n",
      "*********** 3 ***********\n",
      "*********** 4 ***********\n",
      "*********** 5 ***********\n",
      "*********** 6 ***********\n",
      "*********** 7 ***********\n",
      "*********** 8 ***********\n",
      "*********** 9 ***********\n",
      "*********** 10 ***********\n",
      "*********** 11 ***********\n",
      "*********** 12 ***********\n",
      "*********** 13 ***********\n",
      "*********** 14 ***********\n",
      "*********** 15 ***********\n",
      "*********** scaleFactor ************\n",
      "{'scale': 0.15, 'scaleFactor': 1.1, 'WTA_K': 2, 'kp': 'orb', 'edgeThreshold': 31, 'firstLevel': 0, 'nlevels': 8, 'patchSize': 31}\n",
      "*********** 1.1 ***********\n",
      "*********** 1.2000000000000002 ***********\n",
      "*********** 1.3000000000000003 ***********\n",
      "*********** 1.4000000000000004 ***********\n",
      "*********** 1.5000000000000004 ***********\n",
      "*********** 1.6000000000000005 ***********\n",
      "*********** 1.7000000000000006 ***********\n",
      "*********** 1.8000000000000007 ***********\n",
      "*********** 1.9000000000000008 ***********\n",
      "*********** edgeThreshold ************\n",
      "{'scale': 0.15, 'scaleFactor': 1.2, 'WTA_K': 2, 'kp': 'orb', 'edgeThreshold': 11, 'firstLevel': 0, 'nlevels': 8, 'patchSize': 31}\n",
      "*********** 11 ***********\n",
      "*********** 16 ***********\n",
      "*********** 21 ***********\n",
      "*********** 26 ***********\n",
      "*********** 31 ***********\n",
      "*********** 36 ***********\n",
      "*********** 41 ***********\n",
      "*********** 46 ***********\n",
      "*********** firstLevel ************\n",
      "{'scale': 0.15, 'scaleFactor': 1.2, 'WTA_K': 2, 'kp': 'orb', 'edgeThreshold': 31, 'firstLevel': 0, 'nlevels': 8, 'patchSize': 31}\n",
      "*********** 0 ***********\n",
      "*********** WTA_K ************\n",
      "{'scale': 0.15, 'scaleFactor': 1.2, 'WTA_K': 1, 'kp': 'orb', 'edgeThreshold': 31, 'firstLevel': 0, 'nlevels': 8, 'patchSize': 31}\n",
      "*********** 1 ***********\n",
      "*********** 2 ***********\n",
      "*********** 3 ***********\n",
      "*********** 4 ***********\n"
     ]
    },
    {
     "data": {
      "text/plain": [
       "{'WTA_K': 2,\n",
       " 'edgeThreshold': 31,\n",
       " 'firstLevel': 0,\n",
       " 'kp': 'orb',\n",
       " 'nlevels': 8,\n",
       " 'patchSize': 31,\n",
       " 'scale': 0.15,\n",
       " 'scaleFactor': 1.2}"
      ]
     },
     "execution_count": 18,
     "metadata": {},
     "output_type": "execute_result"
    }
   ],
   "source": [
    "results = computeExperiment(imgSet,params,imageParams)\n",
    "imageParams"
   ]
  },
  {
   "cell_type": "markdown",
   "metadata": {
    "deletable": true,
    "editable": true
   },
   "source": [
    "_Plot Results_"
   ]
  },
  {
   "cell_type": "code",
   "execution_count": 19,
   "metadata": {
    "collapsed": false,
    "deletable": true,
    "editable": true
   },
   "outputs": [
    {
     "ename": "IndexError",
     "evalue": "index out of range",
     "output_type": "error",
     "traceback": [
      "\u001b[0;31m---------------------------------------------------------------------------\u001b[0m",
      "\u001b[0;31mIndexError\u001b[0m                                Traceback (most recent call last)",
      "\u001b[0;32m<ipython-input-19-e73122a40754>\u001b[0m in \u001b[0;36m<module>\u001b[0;34m()\u001b[0m\n\u001b[0;32m----> 1\u001b[0;31m \u001b[0mplotResults\u001b[0m\u001b[0;34m(\u001b[0m\u001b[0mresults\u001b[0m\u001b[0;34m)\u001b[0m\u001b[0;34m\u001b[0m\u001b[0m\n\u001b[0m",
      "\u001b[0;32m<ipython-input-5-dfbd392cfd5f>\u001b[0m in \u001b[0;36mplotResults\u001b[0;34m(results)\u001b[0m\n\u001b[1;32m     12\u001b[0m         \u001b[0mspVal\u001b[0m \u001b[0;34m=\u001b[0m \u001b[0;36m221\u001b[0m\u001b[0;34m+\u001b[0m\u001b[0mi\u001b[0m\u001b[0;34m\u001b[0m\u001b[0m\n\u001b[1;32m     13\u001b[0m \u001b[0;34m\u001b[0m\u001b[0m\n\u001b[0;32m---> 14\u001b[0;31m         \u001b[0mplt\u001b[0m\u001b[0;34m.\u001b[0m\u001b[0msubplot\u001b[0m\u001b[0;34m(\u001b[0m\u001b[0mspVal\u001b[0m\u001b[0;34m)\u001b[0m\u001b[0;34m\u001b[0m\u001b[0m\n\u001b[0m\u001b[1;32m     15\u001b[0m         \u001b[0mplt\u001b[0m\u001b[0;34m.\u001b[0m\u001b[0mplot\u001b[0m\u001b[0;34m(\u001b[0m\u001b[0mvalues\u001b[0m\u001b[0;34m,\u001b[0m\u001b[0moutlier\u001b[0m\u001b[0;34m,\u001b[0m\u001b[0mlabel\u001b[0m\u001b[0;34m=\u001b[0m\u001b[0;34m'outlier'\u001b[0m\u001b[0;34m)\u001b[0m\u001b[0;34m\u001b[0m\u001b[0m\n\u001b[1;32m     16\u001b[0m         \u001b[0mplt\u001b[0m\u001b[0;34m.\u001b[0m\u001b[0mplot\u001b[0m\u001b[0;34m(\u001b[0m\u001b[0mvalues\u001b[0m\u001b[0;34m,\u001b[0m\u001b[0moutlier\u001b[0m\u001b[0;34m+\u001b[0m\u001b[0minlier\u001b[0m\u001b[0;34m,\u001b[0m\u001b[0mlabel\u001b[0m\u001b[0;34m=\u001b[0m\u001b[0;34m'total matches'\u001b[0m\u001b[0;34m)\u001b[0m\u001b[0;34m\u001b[0m\u001b[0m\n",
      "\u001b[0;32m/usr/lib/pymodules/python2.7/matplotlib/pyplot.pyc\u001b[0m in \u001b[0;36msubplot\u001b[0;34m(*args, **kwargs)\u001b[0m\n\u001b[1;32m    895\u001b[0m \u001b[0;34m\u001b[0m\u001b[0m\n\u001b[1;32m    896\u001b[0m     \u001b[0mfig\u001b[0m \u001b[0;34m=\u001b[0m \u001b[0mgcf\u001b[0m\u001b[0;34m(\u001b[0m\u001b[0;34m)\u001b[0m\u001b[0;34m\u001b[0m\u001b[0m\n\u001b[0;32m--> 897\u001b[0;31m     \u001b[0ma\u001b[0m \u001b[0;34m=\u001b[0m \u001b[0mfig\u001b[0m\u001b[0;34m.\u001b[0m\u001b[0madd_subplot\u001b[0m\u001b[0;34m(\u001b[0m\u001b[0;34m*\u001b[0m\u001b[0margs\u001b[0m\u001b[0;34m,\u001b[0m \u001b[0;34m**\u001b[0m\u001b[0mkwargs\u001b[0m\u001b[0;34m)\u001b[0m\u001b[0;34m\u001b[0m\u001b[0m\n\u001b[0m\u001b[1;32m    898\u001b[0m     \u001b[0mbbox\u001b[0m \u001b[0;34m=\u001b[0m \u001b[0ma\u001b[0m\u001b[0;34m.\u001b[0m\u001b[0mbbox\u001b[0m\u001b[0;34m\u001b[0m\u001b[0m\n\u001b[1;32m    899\u001b[0m     \u001b[0mbyebye\u001b[0m \u001b[0;34m=\u001b[0m \u001b[0;34m[\u001b[0m\u001b[0;34m]\u001b[0m\u001b[0;34m\u001b[0m\u001b[0m\n",
      "\u001b[0;32m/usr/lib/pymodules/python2.7/matplotlib/figure.pyc\u001b[0m in \u001b[0;36madd_subplot\u001b[0;34m(self, *args, **kwargs)\u001b[0m\n\u001b[1;32m    912\u001b[0m                     \u001b[0mself\u001b[0m\u001b[0;34m.\u001b[0m\u001b[0m_axstack\u001b[0m\u001b[0;34m.\u001b[0m\u001b[0mremove\u001b[0m\u001b[0;34m(\u001b[0m\u001b[0max\u001b[0m\u001b[0;34m)\u001b[0m\u001b[0;34m\u001b[0m\u001b[0m\n\u001b[1;32m    913\u001b[0m \u001b[0;34m\u001b[0m\u001b[0m\n\u001b[0;32m--> 914\u001b[0;31m             \u001b[0ma\u001b[0m \u001b[0;34m=\u001b[0m \u001b[0msubplot_class_factory\u001b[0m\u001b[0;34m(\u001b[0m\u001b[0mprojection_class\u001b[0m\u001b[0;34m)\u001b[0m\u001b[0;34m(\u001b[0m\u001b[0mself\u001b[0m\u001b[0;34m,\u001b[0m \u001b[0;34m*\u001b[0m\u001b[0margs\u001b[0m\u001b[0;34m,\u001b[0m \u001b[0;34m**\u001b[0m\u001b[0mkwargs\u001b[0m\u001b[0;34m)\u001b[0m\u001b[0;34m\u001b[0m\u001b[0m\n\u001b[0m\u001b[1;32m    915\u001b[0m \u001b[0;34m\u001b[0m\u001b[0m\n\u001b[1;32m    916\u001b[0m         \u001b[0mself\u001b[0m\u001b[0;34m.\u001b[0m\u001b[0m_axstack\u001b[0m\u001b[0;34m.\u001b[0m\u001b[0madd\u001b[0m\u001b[0;34m(\u001b[0m\u001b[0mkey\u001b[0m\u001b[0;34m,\u001b[0m \u001b[0ma\u001b[0m\u001b[0;34m)\u001b[0m\u001b[0;34m\u001b[0m\u001b[0m\n",
      "\u001b[0;32m/usr/lib/pymodules/python2.7/matplotlib/axes.pyc\u001b[0m in \u001b[0;36m__init__\u001b[0;34m(self, fig, *args, **kwargs)\u001b[0m\n\u001b[1;32m   9249\u001b[0m                 \u001b[0mself\u001b[0m\u001b[0;34m.\u001b[0m\u001b[0m_subplotspec\u001b[0m \u001b[0;34m=\u001b[0m \u001b[0mGridSpec\u001b[0m\u001b[0;34m(\u001b[0m\u001b[0mrows\u001b[0m\u001b[0;34m,\u001b[0m \u001b[0mcols\u001b[0m\u001b[0;34m)\u001b[0m\u001b[0;34m[\u001b[0m\u001b[0mnum\u001b[0m\u001b[0;34m[\u001b[0m\u001b[0;36m0\u001b[0m\u001b[0;34m]\u001b[0m \u001b[0;34m-\u001b[0m \u001b[0;36m1\u001b[0m\u001b[0;34m:\u001b[0m\u001b[0mnum\u001b[0m\u001b[0;34m[\u001b[0m\u001b[0;36m1\u001b[0m\u001b[0;34m]\u001b[0m\u001b[0;34m]\u001b[0m\u001b[0;34m\u001b[0m\u001b[0m\n\u001b[1;32m   9250\u001b[0m             \u001b[0;32melse\u001b[0m\u001b[0;34m:\u001b[0m\u001b[0;34m\u001b[0m\u001b[0m\n\u001b[0;32m-> 9251\u001b[0;31m                 \u001b[0mself\u001b[0m\u001b[0;34m.\u001b[0m\u001b[0m_subplotspec\u001b[0m \u001b[0;34m=\u001b[0m \u001b[0mGridSpec\u001b[0m\u001b[0;34m(\u001b[0m\u001b[0mrows\u001b[0m\u001b[0;34m,\u001b[0m \u001b[0mcols\u001b[0m\u001b[0;34m)\u001b[0m\u001b[0;34m[\u001b[0m\u001b[0mint\u001b[0m\u001b[0;34m(\u001b[0m\u001b[0mnum\u001b[0m\u001b[0;34m)\u001b[0m \u001b[0;34m-\u001b[0m \u001b[0;36m1\u001b[0m\u001b[0;34m]\u001b[0m\u001b[0;34m\u001b[0m\u001b[0m\n\u001b[0m\u001b[1;32m   9252\u001b[0m                 \u001b[0;31m# num - 1 for converting from MATLAB to python indexing\u001b[0m\u001b[0;34m\u001b[0m\u001b[0;34m\u001b[0m\u001b[0m\n\u001b[1;32m   9253\u001b[0m         \u001b[0;32melse\u001b[0m\u001b[0;34m:\u001b[0m\u001b[0;34m\u001b[0m\u001b[0m\n",
      "\u001b[0;32m/usr/lib/pymodules/python2.7/matplotlib/gridspec.pyc\u001b[0m in \u001b[0;36m__getitem__\u001b[0;34m(self, key)\u001b[0m\n\u001b[1;32m    174\u001b[0m                     \u001b[0mkey\u001b[0m \u001b[0;34m+=\u001b[0m \u001b[0mtotal\u001b[0m\u001b[0;34m\u001b[0m\u001b[0m\n\u001b[1;32m    175\u001b[0m                 \u001b[0;32mif\u001b[0m \u001b[0mkey\u001b[0m \u001b[0;34m>=\u001b[0m \u001b[0mtotal\u001b[0m \u001b[0;32mor\u001b[0m \u001b[0mkey\u001b[0m \u001b[0;34m<\u001b[0m \u001b[0;36m0\u001b[0m \u001b[0;34m:\u001b[0m\u001b[0;34m\u001b[0m\u001b[0m\n\u001b[0;32m--> 176\u001b[0;31m                     \u001b[0;32mraise\u001b[0m \u001b[0mIndexError\u001b[0m\u001b[0;34m(\u001b[0m\u001b[0;34m\"index out of range\"\u001b[0m\u001b[0;34m)\u001b[0m\u001b[0;34m\u001b[0m\u001b[0m\n\u001b[0m\u001b[1;32m    177\u001b[0m                 \u001b[0mnum1\u001b[0m\u001b[0;34m,\u001b[0m \u001b[0mnum2\u001b[0m \u001b[0;34m=\u001b[0m \u001b[0mkey\u001b[0m\u001b[0;34m,\u001b[0m \u001b[0mNone\u001b[0m\u001b[0;34m\u001b[0m\u001b[0m\n\u001b[1;32m    178\u001b[0m \u001b[0;34m\u001b[0m\u001b[0m\n",
      "\u001b[0;31mIndexError\u001b[0m: index out of range"
     ]
    },
    {
     "data": {
      "image/png": "[encoded data removed]",
      "text/plain": [
       "<matplotlib.figure.Figure at 0x7fa892a24210>"
      ]
     },
     "metadata": {},
     "output_type": "display_data"
    }
   ],
   "source": [
    "plotResults(results)"
   ]
  },
  {
   "cell_type": "markdown",
   "metadata": {
    "deletable": true,
    "editable": true
   },
   "source": [
    "_Results_"
   ]
  },
  {
   "cell_type": "code",
   "execution_count": 20,
   "metadata": {
    "collapsed": false,
    "deletable": true,
    "editable": true
   },
   "outputs": [
    {
     "data": {
      "text/plain": [
       "{'WTA_K': {'inlierCount': [5256, 5256, 5256, 5256],\n",
       "  'outlierCount': [639, 639, 639, 639],\n",
       "  'value': [1, 2, 3, 4]},\n",
       " 'edgeThreshold': {'inlierCount': [167, 175, 188, 464, 5256, 4984, 4763, 4546],\n",
       "  'outlierCount': [6026, 6029, 5971, 5594, 639, 660, 628, 588],\n",
       "  'value': [11, 16, 21, 26, 31, 36, 41, 46]},\n",
       " 'firstLevel': {'inlierCount': [5256], 'outlierCount': [639], 'value': [0]},\n",
       " 'nlevels': {'inlierCount': [1985,\n",
       "   3831,\n",
       "   4855,\n",
       "   5152,\n",
       "   5075,\n",
       "   5197,\n",
       "   5240,\n",
       "   5256,\n",
       "   5075,\n",
       "   5203,\n",
       "   5120,\n",
       "   4913,\n",
       "   4702,\n",
       "   4817,\n",
       "   4794],\n",
       "  'outlierCount': [254,\n",
       "   639,\n",
       "   684,\n",
       "   679,\n",
       "   865,\n",
       "   741,\n",
       "   684,\n",
       "   639,\n",
       "   762,\n",
       "   562,\n",
       "   577,\n",
       "   738,\n",
       "   877,\n",
       "   720,\n",
       "   708],\n",
       "  'value': [1, 2, 3, 4, 5, 6, 7, 8, 9, 10, 11, 12, 13, 14, 15]},\n",
       " 'scaleFactor': {'inlierCount': [5243,\n",
       "   5256,\n",
       "   3998,\n",
       "   3538,\n",
       "   3253,\n",
       "   3067,\n",
       "   2739,\n",
       "   2615,\n",
       "   2579],\n",
       "  'outlierCount': [674, 639, 698, 671, 459, 430, 524, 484, 410],\n",
       "  'value': [1.1,\n",
       "   1.2000000000000002,\n",
       "   1.3000000000000003,\n",
       "   1.4000000000000004,\n",
       "   1.5000000000000004,\n",
       "   1.6000000000000005,\n",
       "   1.7000000000000006,\n",
       "   1.8000000000000007,\n",
       "   1.9000000000000008]}}"
      ]
     },
     "execution_count": 20,
     "metadata": {},
     "output_type": "execute_result"
    }
   ],
   "source": [
    "results"
   ]
  },
  {
   "cell_type": "markdown",
   "metadata": {
    "deletable": true,
    "editable": true
   },
   "source": [
    "## Office Images\n",
    "_Open and initialize the images_"
   ]
  },
  {
   "cell_type": "code",
   "execution_count": 21,
   "metadata": {
    "collapsed": false,
    "deletable": true,
    "editable": true
   },
   "outputs": [],
   "source": [
    "imageParams['scale']=0.15\n",
    "imgSet = openImages(imgRange,imgDir,imageParams,'desk')"
   ]
  },
  {
   "cell_type": "markdown",
   "metadata": {
    "deletable": true,
    "editable": true
   },
   "source": [
    "_Compute Experiment_"
   ]
  },
  {
   "cell_type": "code",
   "execution_count": 22,
   "metadata": {
    "collapsed": false,
    "deletable": true,
    "editable": true
   },
   "outputs": [
    {
     "name": "stdout",
     "output_type": "stream",
     "text": [
      "*********** nlevels ************\n",
      "{'scale': 0.15, 'scaleFactor': 1.2, 'WTA_K': 2, 'kp': 'orb', 'edgeThreshold': 31, 'firstLevel': 0, 'nlevels': 1, 'patchSize': 31}\n",
      "*********** 1 ***********\n",
      "*********** 2 ***********\n",
      "*********** 3 ***********\n",
      "*********** 4 ***********\n",
      "*********** 5 ***********\n",
      "*********** 6 ***********\n",
      "*********** 7 ***********\n",
      "*********** 8 ***********\n",
      "*********** 9 ***********\n",
      "*********** 10 ***********\n",
      "*********** 11 ***********\n",
      "*********** 12 ***********\n",
      "*********** 13 ***********\n",
      "*********** 14 ***********\n",
      "*********** 15 ***********\n",
      "*********** scaleFactor ************\n",
      "{'scale': 0.15, 'scaleFactor': 1.1, 'WTA_K': 2, 'kp': 'orb', 'edgeThreshold': 31, 'firstLevel': 0, 'nlevels': 8, 'patchSize': 31}\n",
      "*********** 1.1 ***********\n",
      "*********** 1.2000000000000002 ***********\n",
      "*********** 1.3000000000000003 ***********\n",
      "*********** 1.4000000000000004 ***********\n",
      "*********** 1.5000000000000004 ***********\n",
      "*********** 1.6000000000000005 ***********\n",
      "*********** 1.7000000000000006 ***********\n",
      "*********** 1.8000000000000007 ***********\n",
      "*********** 1.9000000000000008 ***********\n",
      "*********** edgeThreshold ************\n",
      "{'scale': 0.15, 'scaleFactor': 1.2, 'WTA_K': 2, 'kp': 'orb', 'edgeThreshold': 11, 'firstLevel': 0, 'nlevels': 8, 'patchSize': 31}\n",
      "*********** 11 ***********\n",
      "*********** 16 ***********\n",
      "*********** 21 ***********\n",
      "*********** 26 ***********\n",
      "*********** 31 ***********\n",
      "*********** 36 ***********\n",
      "*********** 41 ***********\n",
      "*********** 46 ***********\n",
      "*********** firstLevel ************\n",
      "{'scale': 0.15, 'scaleFactor': 1.2, 'WTA_K': 2, 'kp': 'orb', 'edgeThreshold': 31, 'firstLevel': 0, 'nlevels': 8, 'patchSize': 31}\n",
      "*********** 0 ***********\n",
      "*********** WTA_K ************\n",
      "{'scale': 0.15, 'scaleFactor': 1.2, 'WTA_K': 1, 'kp': 'orb', 'edgeThreshold': 31, 'firstLevel': 0, 'nlevels': 8, 'patchSize': 31}\n",
      "*********** 1 ***********\n",
      "*********** 2 ***********\n",
      "*********** 3 ***********\n",
      "*********** 4 ***********\n"
     ]
    },
    {
     "data": {
      "text/plain": [
       "{'WTA_K': 2,\n",
       " 'edgeThreshold': 31,\n",
       " 'firstLevel': 0,\n",
       " 'kp': 'orb',\n",
       " 'nlevels': 8,\n",
       " 'patchSize': 31,\n",
       " 'scale': 0.15,\n",
       " 'scaleFactor': 1.2}"
      ]
     },
     "execution_count": 22,
     "metadata": {},
     "output_type": "execute_result"
    }
   ],
   "source": [
    "results = computeExperiment(imgSet,params,imageParams)\n",
    "imageParams"
   ]
  },
  {
   "cell_type": "code",
   "execution_count": 23,
   "metadata": {
    "collapsed": false,
    "deletable": true,
    "editable": true
   },
   "outputs": [
    {
     "ename": "IndexError",
     "evalue": "index out of range",
     "output_type": "error",
     "traceback": [
      "\u001b[0;31m---------------------------------------------------------------------------\u001b[0m",
      "\u001b[0;31mIndexError\u001b[0m                                Traceback (most recent call last)",
      "\u001b[0;32m<ipython-input-23-e73122a40754>\u001b[0m in \u001b[0;36m<module>\u001b[0;34m()\u001b[0m\n\u001b[0;32m----> 1\u001b[0;31m \u001b[0mplotResults\u001b[0m\u001b[0;34m(\u001b[0m\u001b[0mresults\u001b[0m\u001b[0;34m)\u001b[0m\u001b[0;34m\u001b[0m\u001b[0m\n\u001b[0m",
      "\u001b[0;32m<ipython-input-5-dfbd392cfd5f>\u001b[0m in \u001b[0;36mplotResults\u001b[0;34m(results)\u001b[0m\n\u001b[1;32m     12\u001b[0m         \u001b[0mspVal\u001b[0m \u001b[0;34m=\u001b[0m \u001b[0;36m221\u001b[0m\u001b[0;34m+\u001b[0m\u001b[0mi\u001b[0m\u001b[0;34m\u001b[0m\u001b[0m\n\u001b[1;32m     13\u001b[0m \u001b[0;34m\u001b[0m\u001b[0m\n\u001b[0;32m---> 14\u001b[0;31m         \u001b[0mplt\u001b[0m\u001b[0;34m.\u001b[0m\u001b[0msubplot\u001b[0m\u001b[0;34m(\u001b[0m\u001b[0mspVal\u001b[0m\u001b[0;34m)\u001b[0m\u001b[0;34m\u001b[0m\u001b[0m\n\u001b[0m\u001b[1;32m     15\u001b[0m         \u001b[0mplt\u001b[0m\u001b[0;34m.\u001b[0m\u001b[0mplot\u001b[0m\u001b[0;34m(\u001b[0m\u001b[0mvalues\u001b[0m\u001b[0;34m,\u001b[0m\u001b[0moutlier\u001b[0m\u001b[0;34m,\u001b[0m\u001b[0mlabel\u001b[0m\u001b[0;34m=\u001b[0m\u001b[0;34m'outlier'\u001b[0m\u001b[0;34m)\u001b[0m\u001b[0;34m\u001b[0m\u001b[0m\n\u001b[1;32m     16\u001b[0m         \u001b[0mplt\u001b[0m\u001b[0;34m.\u001b[0m\u001b[0mplot\u001b[0m\u001b[0;34m(\u001b[0m\u001b[0mvalues\u001b[0m\u001b[0;34m,\u001b[0m\u001b[0moutlier\u001b[0m\u001b[0;34m+\u001b[0m\u001b[0minlier\u001b[0m\u001b[0;34m,\u001b[0m\u001b[0mlabel\u001b[0m\u001b[0;34m=\u001b[0m\u001b[0;34m'total matches'\u001b[0m\u001b[0;34m)\u001b[0m\u001b[0;34m\u001b[0m\u001b[0m\n",
      "\u001b[0;32m/usr/lib/pymodules/python2.7/matplotlib/pyplot.pyc\u001b[0m in \u001b[0;36msubplot\u001b[0;34m(*args, **kwargs)\u001b[0m\n\u001b[1;32m    895\u001b[0m \u001b[0;34m\u001b[0m\u001b[0m\n\u001b[1;32m    896\u001b[0m     \u001b[0mfig\u001b[0m \u001b[0;34m=\u001b[0m \u001b[0mgcf\u001b[0m\u001b[0;34m(\u001b[0m\u001b[0;34m)\u001b[0m\u001b[0;34m\u001b[0m\u001b[0m\n\u001b[0;32m--> 897\u001b[0;31m     \u001b[0ma\u001b[0m \u001b[0;34m=\u001b[0m \u001b[0mfig\u001b[0m\u001b[0;34m.\u001b[0m\u001b[0madd_subplot\u001b[0m\u001b[0;34m(\u001b[0m\u001b[0;34m*\u001b[0m\u001b[0margs\u001b[0m\u001b[0;34m,\u001b[0m \u001b[0;34m**\u001b[0m\u001b[0mkwargs\u001b[0m\u001b[0;34m)\u001b[0m\u001b[0;34m\u001b[0m\u001b[0m\n\u001b[0m\u001b[1;32m    898\u001b[0m     \u001b[0mbbox\u001b[0m \u001b[0;34m=\u001b[0m \u001b[0ma\u001b[0m\u001b[0;34m.\u001b[0m\u001b[0mbbox\u001b[0m\u001b[0;34m\u001b[0m\u001b[0m\n\u001b[1;32m    899\u001b[0m     \u001b[0mbyebye\u001b[0m \u001b[0;34m=\u001b[0m \u001b[0;34m[\u001b[0m\u001b[0;34m]\u001b[0m\u001b[0;34m\u001b[0m\u001b[0m\n",
      "\u001b[0;32m/usr/lib/pymodules/python2.7/matplotlib/figure.pyc\u001b[0m in \u001b[0;36madd_subplot\u001b[0;34m(self, *args, **kwargs)\u001b[0m\n\u001b[1;32m    912\u001b[0m                     \u001b[0mself\u001b[0m\u001b[0;34m.\u001b[0m\u001b[0m_axstack\u001b[0m\u001b[0;34m.\u001b[0m\u001b[0mremove\u001b[0m\u001b[0;34m(\u001b[0m\u001b[0max\u001b[0m\u001b[0;34m)\u001b[0m\u001b[0;34m\u001b[0m\u001b[0m\n\u001b[1;32m    913\u001b[0m \u001b[0;34m\u001b[0m\u001b[0m\n\u001b[0;32m--> 914\u001b[0;31m             \u001b[0ma\u001b[0m \u001b[0;34m=\u001b[0m \u001b[0msubplot_class_factory\u001b[0m\u001b[0;34m(\u001b[0m\u001b[0mprojection_class\u001b[0m\u001b[0;34m)\u001b[0m\u001b[0;34m(\u001b[0m\u001b[0mself\u001b[0m\u001b[0;34m,\u001b[0m \u001b[0;34m*\u001b[0m\u001b[0margs\u001b[0m\u001b[0;34m,\u001b[0m \u001b[0;34m**\u001b[0m\u001b[0mkwargs\u001b[0m\u001b[0;34m)\u001b[0m\u001b[0;34m\u001b[0m\u001b[0m\n\u001b[0m\u001b[1;32m    915\u001b[0m \u001b[0;34m\u001b[0m\u001b[0m\n\u001b[1;32m    916\u001b[0m         \u001b[0mself\u001b[0m\u001b[0;34m.\u001b[0m\u001b[0m_axstack\u001b[0m\u001b[0;34m.\u001b[0m\u001b[0madd\u001b[0m\u001b[0;34m(\u001b[0m\u001b[0mkey\u001b[0m\u001b[0;34m,\u001b[0m \u001b[0ma\u001b[0m\u001b[0;34m)\u001b[0m\u001b[0;34m\u001b[0m\u001b[0m\n",
      "\u001b[0;32m/usr/lib/pymodules/python2.7/matplotlib/axes.pyc\u001b[0m in \u001b[0;36m__init__\u001b[0;34m(self, fig, *args, **kwargs)\u001b[0m\n\u001b[1;32m   9249\u001b[0m                 \u001b[0mself\u001b[0m\u001b[0;34m.\u001b[0m\u001b[0m_subplotspec\u001b[0m \u001b[0;34m=\u001b[0m \u001b[0mGridSpec\u001b[0m\u001b[0;34m(\u001b[0m\u001b[0mrows\u001b[0m\u001b[0;34m,\u001b[0m \u001b[0mcols\u001b[0m\u001b[0;34m)\u001b[0m\u001b[0;34m[\u001b[0m\u001b[0mnum\u001b[0m\u001b[0;34m[\u001b[0m\u001b[0;36m0\u001b[0m\u001b[0;34m]\u001b[0m \u001b[0;34m-\u001b[0m \u001b[0;36m1\u001b[0m\u001b[0;34m:\u001b[0m\u001b[0mnum\u001b[0m\u001b[0;34m[\u001b[0m\u001b[0;36m1\u001b[0m\u001b[0;34m]\u001b[0m\u001b[0;34m]\u001b[0m\u001b[0;34m\u001b[0m\u001b[0m\n\u001b[1;32m   9250\u001b[0m             \u001b[0;32melse\u001b[0m\u001b[0;34m:\u001b[0m\u001b[0;34m\u001b[0m\u001b[0m\n\u001b[0;32m-> 9251\u001b[0;31m                 \u001b[0mself\u001b[0m\u001b[0;34m.\u001b[0m\u001b[0m_subplotspec\u001b[0m \u001b[0;34m=\u001b[0m \u001b[0mGridSpec\u001b[0m\u001b[0;34m(\u001b[0m\u001b[0mrows\u001b[0m\u001b[0;34m,\u001b[0m \u001b[0mcols\u001b[0m\u001b[0;34m)\u001b[0m\u001b[0;34m[\u001b[0m\u001b[0mint\u001b[0m\u001b[0;34m(\u001b[0m\u001b[0mnum\u001b[0m\u001b[0;34m)\u001b[0m \u001b[0;34m-\u001b[0m \u001b[0;36m1\u001b[0m\u001b[0;34m]\u001b[0m\u001b[0;34m\u001b[0m\u001b[0m\n\u001b[0m\u001b[1;32m   9252\u001b[0m                 \u001b[0;31m# num - 1 for converting from MATLAB to python indexing\u001b[0m\u001b[0;34m\u001b[0m\u001b[0;34m\u001b[0m\u001b[0m\n\u001b[1;32m   9253\u001b[0m         \u001b[0;32melse\u001b[0m\u001b[0;34m:\u001b[0m\u001b[0;34m\u001b[0m\u001b[0m\n",
      "\u001b[0;32m/usr/lib/pymodules/python2.7/matplotlib/gridspec.pyc\u001b[0m in \u001b[0;36m__getitem__\u001b[0;34m(self, key)\u001b[0m\n\u001b[1;32m    174\u001b[0m                     \u001b[0mkey\u001b[0m \u001b[0;34m+=\u001b[0m \u001b[0mtotal\u001b[0m\u001b[0;34m\u001b[0m\u001b[0m\n\u001b[1;32m    175\u001b[0m                 \u001b[0;32mif\u001b[0m \u001b[0mkey\u001b[0m \u001b[0;34m>=\u001b[0m \u001b[0mtotal\u001b[0m \u001b[0;32mor\u001b[0m \u001b[0mkey\u001b[0m \u001b[0;34m<\u001b[0m \u001b[0;36m0\u001b[0m \u001b[0;34m:\u001b[0m\u001b[0;34m\u001b[0m\u001b[0m\n\u001b[0;32m--> 176\u001b[0;31m                     \u001b[0;32mraise\u001b[0m \u001b[0mIndexError\u001b[0m\u001b[0;34m(\u001b[0m\u001b[0;34m\"index out of range\"\u001b[0m\u001b[0;34m)\u001b[0m\u001b[0;34m\u001b[0m\u001b[0m\n\u001b[0m\u001b[1;32m    177\u001b[0m                 \u001b[0mnum1\u001b[0m\u001b[0;34m,\u001b[0m \u001b[0mnum2\u001b[0m \u001b[0;34m=\u001b[0m \u001b[0mkey\u001b[0m\u001b[0;34m,\u001b[0m \u001b[0mNone\u001b[0m\u001b[0;34m\u001b[0m\u001b[0m\n\u001b[1;32m    178\u001b[0m \u001b[0;34m\u001b[0m\u001b[0m\n",
      "\u001b[0;31mIndexError\u001b[0m: index out of range"
     ]
    },
    {
     "data": {
      "image/png": "[encoded data removed]",
      "text/plain": [
       "<matplotlib.figure.Figure at 0x7fa88c679910>"
      ]
     },
     "metadata": {},
     "output_type": "display_data"
    }
   ],
   "source": [
    "plotResults(results)"
   ]
  },
  {
   "cell_type": "code",
   "execution_count": 24,
   "metadata": {
    "collapsed": false,
    "deletable": true,
    "editable": true
   },
   "outputs": [
    {
     "data": {
      "text/plain": [
       "{'WTA_K': {'inlierCount': [3816, 3816, 3816, 3816],\n",
       "  'outlierCount': [297, 297, 297, 297],\n",
       "  'value': [1, 2, 3, 4]},\n",
       " 'edgeThreshold': {'inlierCount': [319, 347, 456, 966, 3816, 3654, 3260, 2982],\n",
       "  'outlierCount': [4515, 4419, 4181, 3444, 297, 136, 215, 174],\n",
       "  'value': [11, 16, 21, 26, 31, 36, 41, 46]},\n",
       " 'firstLevel': {'inlierCount': [3816], 'outlierCount': [297], 'value': [0]},\n",
       " 'nlevels': {'inlierCount': [1219,\n",
       "   2276,\n",
       "   2954,\n",
       "   3291,\n",
       "   3615,\n",
       "   3795,\n",
       "   3816,\n",
       "   3816,\n",
       "   3781,\n",
       "   3826,\n",
       "   3856,\n",
       "   3822,\n",
       "   3850,\n",
       "   3799,\n",
       "   3845],\n",
       "  'outlierCount': [62,\n",
       "   83,\n",
       "   94,\n",
       "   195,\n",
       "   181,\n",
       "   212,\n",
       "   271,\n",
       "   297,\n",
       "   335,\n",
       "   280,\n",
       "   239,\n",
       "   263,\n",
       "   226,\n",
       "   269,\n",
       "   218],\n",
       "  'value': [1, 2, 3, 4, 5, 6, 7, 8, 9, 10, 11, 12, 13, 14, 15]},\n",
       " 'scaleFactor': {'inlierCount': [4398,\n",
       "   3816,\n",
       "   2753,\n",
       "   2310,\n",
       "   2017,\n",
       "   1883,\n",
       "   1712,\n",
       "   1663,\n",
       "   1598],\n",
       "  'outlierCount': [365, 297, 192, 122, 118, 74, 133, 95, 66],\n",
       "  'value': [1.1,\n",
       "   1.2000000000000002,\n",
       "   1.3000000000000003,\n",
       "   1.4000000000000004,\n",
       "   1.5000000000000004,\n",
       "   1.6000000000000005,\n",
       "   1.7000000000000006,\n",
       "   1.8000000000000007,\n",
       "   1.9000000000000008]}}"
      ]
     },
     "execution_count": 24,
     "metadata": {},
     "output_type": "execute_result"
    }
   ],
   "source": [
    "results"
   ]
  }
 ],
 "metadata": {
  "kernelspec": {
   "display_name": "Python 2",
   "language": "python",
   "name": "python2"
  },
  "language_info": {
   "codemirror_mode": {
    "name": "ipython",
    "version": 2
   },
   "file_extension": ".py",
   "mimetype": "text/x-python",
   "name": "python",
   "nbconvert_exporter": "python",
   "pygments_lexer": "ipython2",
   "version": "2.7.6"
  }
 },
 "nbformat": 4,
 "nbformat_minor": 0
}
