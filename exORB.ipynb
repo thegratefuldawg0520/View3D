{
 "cells": [
  {
   "cell_type": "markdown",
   "metadata": {},
   "source": [
    "# Plotting the SIFT keypoint detector and feature descriptor error function\n",
    "This document contains an experiment in which different keypoint detector and feature descriptor combinations are used to detect and uniquely describe common points of interest in image pairs. The goal of this experiment is to explore the effects that varying the values of the different input parameters of the detector/descriptors have on the frequency of inlier matches when computing a 3D relationship between images based upon epipolar geometry."
   ]
  },
  {
   "cell_type": "markdown",
   "metadata": {},
   "source": [
    "## Hypothesis\n",
    "\n",
    "There exists an optimal set of descriptor/detector parameters that can minimize the number of outlier match pairs computer over a set of images."
   ]
  },
  {
   "cell_type": "markdown",
   "metadata": {},
   "source": [
    "## Experimental Design\n",
    "1. Select three image sets:\n",
    "    1. Nadir Facing Projective Camera.\n",
    "    2. Nadir Facing Fisheye Camera.\n",
    "    3. Oblique Camera.\n",
    "3. Define a bound and a step size for the different parameters.\n",
    "4. Load the images and initialize the Descriptor/Detector to the openCV initial values.\n",
    "5. For each image in the image set compute the keypoints and descriptors.\n",
    "6. For each pair of consecutive images, match corresponding keypoints.\n",
    "7. Estimate the fundamental matrix between the image pair and compute the inliers and outliers for the image pair.\n",
    "8. Sum the the number of inliers, outliers and total computed matches for the entire sequence.\n",
    "9. Select one parameter and vary it by the step size.\n",
    "10. Repeat steps 5 - 9 while varying the selected parameter until it reaches the bounds.\n",
    "11. Reset the parameter to its initial value.\n",
    "12. Select a new parameter to vary and repeat 10.\n",
    "13. Perform 3 - 12 for each image type.\n",
    "\n",
    "This experiment will result in a function for each parameter that corresponds to its behaviour about the point corresponding to the openCV initial values.\n",
    "    \n",
    "    "
   ]
  },
  {
   "cell_type": "markdown",
   "metadata": {},
   "source": [
    "## Experiment\n",
    "To begin we import the necessary python packages including the custom built image processing modules"
   ]
  },
  {
   "cell_type": "code",
   "execution_count": 12,
   "metadata": {
    "collapsed": false,
    "scrolled": true
   },
   "outputs": [],
   "source": [
    "%matplotlib inline\n",
    "import image as im\n",
    "import matching as mt\n",
    "import imageUtility as ut\n",
    "import transforms as tn\n",
    "import numpy as np\n",
    "import matplotlib.pyplot as plt"
   ]
  },
  {
   "cell_type": "markdown",
   "metadata": {},
   "source": [
    "### Select three image sets\n",
    "The following three image datasets are used:\n",
    "* __Nadir Facing Perspective Camera:__ Glacier images from the Sensefly eBee RTK\n",
    "* __Nadir Facing Fisheye Camera:__ Images of the Quatre Fourches River in Wood Buffalo National Park, Alberta, Canada\n",
    "* __Oblique Perspective Camera:__ Images of an office space\n",
    "\n",
    "In this experiment we operate on the raw, unprojected images. Therefore we do not account for any lense distortion nor the internal imaging geometry.\n",
    "\n",
    "### Define a bound and a step size for the different parameters\n",
    "In this experiment we will explore the following parameters:\n",
    "\n",
    "| Parameter | Description | Initial Value | Step Size | Bounds |\n",
    "| --- | --- | --- | --- | --- |\n",
    "|# Features | _desc_ | 10000| 0 | - |\n",
    "|# Octave Layers | _desc_ | 3| 1 | 1 - 5 |\n",
    "|Contrast Threshold | _desc_ | 0.04| 0.01 | 0.01 - 0.08 |\n",
    "|Edge Threshold | _desc_ | 10| 1 | 5 - 15 |\n",
    "|Sigma | _desc_ | 1.6 | 0.1 | 1.0 - 2.0 | \n",
    "\n"
   ]
  },
  {
   "cell_type": "code",
   "execution_count": 13,
   "metadata": {
    "collapsed": false,
    "scrolled": true
   },
   "outputs": [],
   "source": [
    "scaleFactor=1.2\n",
    "nlevels=8\n",
    "edgeThreshold=31\n",
    "firstLevel=0\n",
    "WTA_K=2\n",
    "patchSize=31\n",
    "\n",
    "imgDir = {'glacier':{'dir':'/home/doopy/Documents/View3D/View3D_0_1/exp1/glacier/','ext':'.JPG'},\n",
    "            'wbnp':{'dir':'/home/doopy/Documents/View3D/View3D_0_1/exp1/wbnp/','ext':'.JPG'},\n",
    "            'desk':{'dir':'/home/doopy/Documents/View3D/View3D_0_1/exp1/desk/','ext':'.png'}\n",
    "           }\n",
    "\n",
    "imgRange = range(1,10)\n",
    "\n",
    "imageParams = {'scale':0.15,\n",
    "               'kp':'orb',\n",
    "               'scaleFactor':scaleFactor,\n",
    "               'nlevels':nlevels,\n",
    "               'edgeThreshold':edgeThreshold,\n",
    "               'firstLevel':firstLevel,\n",
    "               'WTA_K':WTA_K,\n",
    "               'patchSize':patchSize\n",
    "              }\n",
    "\n",
    "params = {'scaleFactor':{'step':0.1,'iv':1.0,'bdy':2.0},\n",
    "          'nlevels':{'step':1,'iv':1,'bdy':16},\n",
    "          'edgeThreshold':{'step':5,'iv':11,'bdy':51},\n",
    "          'firstLevel':{'step':1,'iv':0,'bdy':8},\n",
    "          'WTA_K':{'step':1,'iv':1,'bdy':5},\n",
    "          'edgeThreshold':{'step':5,'iv':11,'bdy':51}\n",
    "         }"
   ]
  },
  {
   "cell_type": "markdown",
   "metadata": {
    "collapsed": true
   },
   "source": [
    "### Open Images and Initialize the Descriptor/Detector to the openCV initial values\n",
    "A custom function is created, using the image class, which creates an image object for each image in the image set, and compute the keypoints and feature descriptors corresponding to the default openCV values"
   ]
  },
  {
   "cell_type": "code",
   "execution_count": 14,
   "metadata": {
    "collapsed": false,
    "scrolled": true
   },
   "outputs": [],
   "source": [
    "def openImages(imgRange,imgDir,imgParams,imgSet):\n",
    "    \n",
    "    images = []\n",
    "\n",
    "\n",
    "    for i in imgRange:\n",
    "        \n",
    "        images.append(im.image(imgDir[imgSet]['dir'] + str(i) + imgDir[imgSet]['ext'],imgParams))\n",
    "        \n",
    "    return images\n",
    "    "
   ]
  },
  {
   "cell_type": "markdown",
   "metadata": {},
   "source": [
    "### Plot Results\n",
    "A custom function is created, using pyplot, which creates a line plots for each parameter variation. The x-axis corresponds to the parameter value, and the y axis correponds to the number of matches. Two curves are plotted:\n",
    "1. total number of matches.\n",
    "2. number of outlier matches."
   ]
  },
  {
   "cell_type": "code",
   "execution_count": 15,
   "metadata": {
    "collapsed": false
   },
   "outputs": [],
   "source": [
    "def plotResults(results):\n",
    "    \n",
    "    plt.figure(1,figsize=(12,12))\n",
    "    i = 0\n",
    "    \n",
    "    for param in results.keys():\n",
    "        \n",
    "        values = np.array(results[param]['value'])\n",
    "        inlier = np.array(results[param]['inlierCount'])\n",
    "        outlier = np.array(results[param]['outlierCount'])\n",
    "        \n",
    "        spVal = 221+i\n",
    "        \n",
    "        plt.subplot(spVal)\n",
    "        plt.plot(values,outlier,label='outlier')\n",
    "        plt.plot(values,outlier+inlier,label='total matches')\n",
    "        plt.legend()\n",
    "        plt.title(param)\n",
    "\n",
    "        i+=1\n",
    "        \n",
    "    plt.subplots_adjust(left=0.10, right=0.95, hspace=0.8, wspace=0.8)"
   ]
  },
  {
   "cell_type": "markdown",
   "metadata": {},
   "source": [
    "### Experiment\n",
    "A custom function is created to generate the experimental results. The function can be applied to any keypoint detector and descriptor pair available in the image and matching toolbox."
   ]
  },
  {
   "cell_type": "code",
   "execution_count": 16,
   "metadata": {
    "collapsed": true
   },
   "outputs": [],
   "source": [
    "def computeExperiment(imageSet,params,imageParams):\n",
    "    \n",
    "    results = {}\n",
    "        \n",
    "    for parameter in params.keys():\n",
    "\n",
    "        print '*********** ' + parameter + ' ************'\n",
    "        \n",
    "        results[parameter] = {'value':[],'inlierCount':[],'outlierCount':[]}\n",
    "        \n",
    "        imgParams = {key: value for key, value in imageParams.items()}\n",
    "        \n",
    "        imgParams[parameter] = params[parameter]['iv']\n",
    "        print imgParams\n",
    "        \n",
    "        for j in np.arange(imgParams[parameter],params[parameter]['bdy'],params[parameter]['step']):\n",
    "\n",
    "            imgParams[parameter] = j\n",
    "\n",
    "            print '*********** ' + str(j) + ' ***********'\n",
    "\n",
    "            for img in imageSet:\n",
    "\n",
    "                img.computeKP(imgParams)\n",
    "\n",
    "            img1 = imageSet[0]\n",
    "            inlierSum = 0\n",
    "            outlierSum = 0\n",
    "\n",
    "            for img2 in imageSet[1:]:\n",
    "\n",
    "                F = tn.fundamental(img1,img2,imgParams)\n",
    "\n",
    "                inlierSum += F.inlierCount()\n",
    "                outlierSum += F.outlierCount()\n",
    "\n",
    "                img1 = img2   \n",
    "\n",
    "            results[parameter]['value'].append(imgParams[parameter])\n",
    "            results[parameter]['inlierCount'].append(inlierSum)\n",
    "            results[parameter]['outlierCount'].append(outlierSum)\n",
    "            \n",
    "    return results\n",
    "        "
   ]
  },
  {
   "cell_type": "markdown",
   "metadata": {},
   "source": [
    "## Glacier Images\n",
    "_Open and initialize the images_"
   ]
  },
  {
   "cell_type": "code",
   "execution_count": 17,
   "metadata": {
    "collapsed": false
   },
   "outputs": [
    {
     "ename": "error",
     "evalue": "/home/doopy/Documents/opencv/modules/python/src2/cv2.cpp:152: error: (-215) The data should normally be NULL! in function allocate\n",
     "output_type": "error",
     "traceback": [
      "\u001b[1;31m---------------------------------------------------------------------------\u001b[0m",
      "\u001b[1;31merror\u001b[0m                                     Traceback (most recent call last)",
      "\u001b[1;32m<ipython-input-17-0a0be1f150a6>\u001b[0m in \u001b[0;36m<module>\u001b[1;34m()\u001b[0m\n\u001b[1;32m----> 1\u001b[1;33m \u001b[0mimgSet\u001b[0m \u001b[1;33m=\u001b[0m \u001b[0mopenImages\u001b[0m\u001b[1;33m(\u001b[0m\u001b[0mimgRange\u001b[0m\u001b[1;33m,\u001b[0m\u001b[0mimgDir\u001b[0m\u001b[1;33m,\u001b[0m\u001b[0mimageParams\u001b[0m\u001b[1;33m,\u001b[0m\u001b[1;34m'glacier'\u001b[0m\u001b[1;33m)\u001b[0m\u001b[1;33m\u001b[0m\u001b[0m\n\u001b[0m",
      "\u001b[1;32m<ipython-input-14-17d041cf101e>\u001b[0m in \u001b[0;36mopenImages\u001b[1;34m(imgRange, imgDir, imgParams, imgSet)\u001b[0m\n\u001b[0;32m      6\u001b[0m     \u001b[1;32mfor\u001b[0m \u001b[0mi\u001b[0m \u001b[1;32min\u001b[0m \u001b[0mimgRange\u001b[0m\u001b[1;33m:\u001b[0m\u001b[1;33m\u001b[0m\u001b[0m\n\u001b[0;32m      7\u001b[0m \u001b[1;33m\u001b[0m\u001b[0m\n\u001b[1;32m----> 8\u001b[1;33m         \u001b[0mimages\u001b[0m\u001b[1;33m.\u001b[0m\u001b[0mappend\u001b[0m\u001b[1;33m(\u001b[0m\u001b[0mim\u001b[0m\u001b[1;33m.\u001b[0m\u001b[0mimage\u001b[0m\u001b[1;33m(\u001b[0m\u001b[0mimgDir\u001b[0m\u001b[1;33m[\u001b[0m\u001b[0mimgSet\u001b[0m\u001b[1;33m]\u001b[0m\u001b[1;33m[\u001b[0m\u001b[1;34m'dir'\u001b[0m\u001b[1;33m]\u001b[0m \u001b[1;33m+\u001b[0m \u001b[0mstr\u001b[0m\u001b[1;33m(\u001b[0m\u001b[0mi\u001b[0m\u001b[1;33m)\u001b[0m \u001b[1;33m+\u001b[0m \u001b[0mimgDir\u001b[0m\u001b[1;33m[\u001b[0m\u001b[0mimgSet\u001b[0m\u001b[1;33m]\u001b[0m\u001b[1;33m[\u001b[0m\u001b[1;34m'ext'\u001b[0m\u001b[1;33m]\u001b[0m\u001b[1;33m,\u001b[0m\u001b[0mimgParams\u001b[0m\u001b[1;33m)\u001b[0m\u001b[1;33m)\u001b[0m\u001b[1;33m\u001b[0m\u001b[0m\n\u001b[0m\u001b[0;32m      9\u001b[0m \u001b[1;33m\u001b[0m\u001b[0m\n\u001b[0;32m     10\u001b[0m     \u001b[1;32mreturn\u001b[0m \u001b[0mimages\u001b[0m\u001b[1;33m\u001b[0m\u001b[0m\n",
      "\u001b[1;32m/home/doopy/Documents/View3D/View3D_0_1/image.pyc\u001b[0m in \u001b[0;36m__init__\u001b[1;34m(self, img, params)\u001b[0m\n\u001b[0;32m     18\u001b[0m                 \u001b[0mself\u001b[0m\u001b[1;33m.\u001b[0m\u001b[0mdetector\u001b[0m\u001b[1;33m,\u001b[0m\u001b[0mself\u001b[0m\u001b[1;33m.\u001b[0m\u001b[0mdesc\u001b[0m \u001b[1;33m=\u001b[0m \u001b[0mself\u001b[0m\u001b[1;33m.\u001b[0m\u001b[0m_getDetector\u001b[0m\u001b[1;33m(\u001b[0m\u001b[0mself\u001b[0m\u001b[1;33m.\u001b[0m\u001b[0mparams\u001b[0m\u001b[1;33m)\u001b[0m\u001b[1;33m\u001b[0m\u001b[0m\n\u001b[0;32m     19\u001b[0m                 \u001b[0mself\u001b[0m\u001b[1;33m.\u001b[0m\u001b[0mkeypoints\u001b[0m \u001b[1;33m=\u001b[0m \u001b[0mself\u001b[0m\u001b[1;33m.\u001b[0m\u001b[0m_getKeypoints\u001b[0m\u001b[1;33m(\u001b[0m\u001b[1;33m)\u001b[0m\u001b[1;33m\u001b[0m\u001b[0m\n\u001b[1;32m---> 20\u001b[1;33m                 \u001b[0mself\u001b[0m\u001b[1;33m.\u001b[0m\u001b[0mdescriptors\u001b[0m \u001b[1;33m=\u001b[0m \u001b[0mself\u001b[0m\u001b[1;33m.\u001b[0m\u001b[0m_getDescriptors\u001b[0m\u001b[1;33m(\u001b[0m\u001b[1;33m)\u001b[0m\u001b[1;33m\u001b[0m\u001b[0m\n\u001b[0m\u001b[0;32m     21\u001b[0m                 \u001b[0mself\u001b[0m\u001b[1;33m.\u001b[0m\u001b[0mpath\u001b[0m \u001b[1;33m=\u001b[0m \u001b[0mimg\u001b[0m\u001b[1;33m\u001b[0m\u001b[0m\n\u001b[0;32m     22\u001b[0m                 \u001b[0mself\u001b[0m\u001b[1;33m.\u001b[0m\u001b[0mK\u001b[0m \u001b[1;33m=\u001b[0m \u001b[0mnp\u001b[0m\u001b[1;33m.\u001b[0m\u001b[0meye\u001b[0m\u001b[1;33m(\u001b[0m\u001b[1;36m3\u001b[0m\u001b[1;33m)\u001b[0m\u001b[1;33m\u001b[0m\u001b[0m\n",
      "\u001b[1;32m/home/doopy/Documents/View3D/View3D_0_1/image.pyc\u001b[0m in \u001b[0;36m_getDescriptors\u001b[1;34m(self)\u001b[0m\n\u001b[0;32m     67\u001b[0m         \u001b[1;32mdef\u001b[0m \u001b[0m_getDescriptors\u001b[0m\u001b[1;33m(\u001b[0m\u001b[0mself\u001b[0m\u001b[1;33m)\u001b[0m\u001b[1;33m:\u001b[0m\u001b[1;33m\u001b[0m\u001b[0m\n\u001b[0;32m     68\u001b[0m \u001b[1;33m\u001b[0m\u001b[0m\n\u001b[1;32m---> 69\u001b[1;33m                 \u001b[1;32mreturn\u001b[0m \u001b[0mself\u001b[0m\u001b[1;33m.\u001b[0m\u001b[0mdesc\u001b[0m\u001b[1;33m.\u001b[0m\u001b[0mcompute\u001b[0m\u001b[1;33m(\u001b[0m\u001b[0mself\u001b[0m\u001b[1;33m.\u001b[0m\u001b[0mimg\u001b[0m\u001b[1;33m,\u001b[0m\u001b[0mself\u001b[0m\u001b[1;33m.\u001b[0m\u001b[0mkeypoints\u001b[0m\u001b[1;33m)\u001b[0m\u001b[1;33m[\u001b[0m\u001b[1;36m1\u001b[0m\u001b[1;33m]\u001b[0m\u001b[1;33m\u001b[0m\u001b[0m\n\u001b[0m\u001b[0;32m     70\u001b[0m \u001b[1;33m\u001b[0m\u001b[0m\n\u001b[0;32m     71\u001b[0m         \u001b[1;32mdef\u001b[0m \u001b[0mcomputeKP\u001b[0m\u001b[1;33m(\u001b[0m\u001b[0mself\u001b[0m\u001b[1;33m,\u001b[0m\u001b[0mparams\u001b[0m\u001b[1;33m)\u001b[0m\u001b[1;33m:\u001b[0m\u001b[1;33m\u001b[0m\u001b[0m\n",
      "\u001b[1;31merror\u001b[0m: /home/doopy/Documents/opencv/modules/python/src2/cv2.cpp:152: error: (-215) The data should normally be NULL! in function allocate\n"
     ]
    }
   ],
   "source": [
    "imgSet = openImages(imgRange,imgDir,imageParams,'glacier')"
   ]
  },
  {
   "cell_type": "markdown",
   "metadata": {},
   "source": [
    "_Compute the experiment._"
   ]
  },
  {
   "cell_type": "code",
   "execution_count": 8,
   "metadata": {
    "collapsed": false
   },
   "outputs": [
    {
     "name": "stdout",
     "output_type": "stream",
     "text": [
      "*********** sigma ************\n",
      "{'scale': 0.15, 'kp': 'sift', 'edgeThreshold': 10, 'sigma': 1.0, 'nOctaveLayers': 3, 'contrastThreshold': 0.04}\n",
      "*********** 1.0 ***********\n",
      "*********** 1.1 ***********\n",
      "*********** 1.2 ***********\n",
      "*********** 1.3 ***********\n",
      "*********** 1.4 ***********\n",
      "*********** 1.5 ***********\n",
      "*********** 1.6 ***********\n",
      "*********** 1.7 ***********\n",
      "*********** 1.8 ***********\n",
      "*********** 1.9 ***********\n",
      "*********** 2.0 ***********\n",
      "*********** nOctaveLayers ************\n",
      "{'scale': 0.15, 'kp': 'sift', 'edgeThreshold': 10, 'sigma': 1.6, 'nOctaveLayers': 1, 'contrastThreshold': 0.04}\n",
      "*********** 1 ***********\n",
      "*********** 2 ***********\n",
      "*********** 3 ***********\n",
      "*********** 4 ***********\n",
      "*********** 5 ***********\n",
      "*********** contrastThreshold ************\n",
      "{'scale': 0.15, 'kp': 'sift', 'edgeThreshold': 10, 'sigma': 1.6, 'nOctaveLayers': 3, 'contrastThreshold': 0.01}\n",
      "*********** 0.01 ***********\n",
      "*********** 0.02 ***********\n",
      "*********** 0.03 ***********\n",
      "*********** 0.04 ***********\n",
      "*********** 0.05 ***********\n",
      "*********** 0.06 ***********\n",
      "*********** 0.07 ***********\n",
      "*********** 0.08 ***********\n",
      "*********** edgeThreshold ************\n",
      "{'scale': 0.15, 'kp': 'sift', 'edgeThreshold': 5, 'sigma': 1.6, 'nOctaveLayers': 3, 'contrastThreshold': 0.04}\n",
      "*********** 5 ***********\n",
      "*********** 6 ***********\n",
      "*********** 7 ***********\n",
      "*********** 8 ***********\n",
      "*********** 9 ***********\n",
      "*********** 10 ***********\n",
      "*********** 11 ***********\n",
      "*********** 12 ***********\n",
      "*********** 13 ***********\n",
      "*********** 14 ***********\n",
      "*********** 15 ***********\n"
     ]
    },
    {
     "data": {
      "text/plain": [
       "{'contrastThreshold': 0.04,\n",
       " 'edgeThreshold': 10,\n",
       " 'kp': 'sift',\n",
       " 'nOctaveLayers': 3,\n",
       " 'scale': 0.15,\n",
       " 'sigma': 1.6}"
      ]
     },
     "execution_count": 8,
     "metadata": {},
     "output_type": "execute_result"
    }
   ],
   "source": [
    "results = computeExperiment(imgSet,params,imageParams)\n",
    "imageParams"
   ]
  },
  {
   "cell_type": "markdown",
   "metadata": {},
   "source": [
    "_Plot the results_"
   ]
  },
  {
   "cell_type": "code",
   "execution_count": 9,
   "metadata": {
    "collapsed": false
   },
   "outputs": [
    {
     "data": {
      "image/png": "[encoded data removed]",
      "text/plain": [
       "<matplotlib.figure.Figure at 0x7f22e3b34690>"
      ]
     },
     "metadata": {},
     "output_type": "display_data"
    }
   ],
   "source": [
    "plotResults(results)"
   ]
  },
  {
   "cell_type": "markdown",
   "metadata": {},
   "source": [
    "_Display results_"
   ]
  },
  {
   "cell_type": "code",
   "execution_count": 10,
   "metadata": {
    "collapsed": false
   },
   "outputs": [
    {
     "data": {
      "text/plain": [
       "{'contrastThreshold': {'inlierCount': [23466,\n",
       "   23210,\n",
       "   22534,\n",
       "   21361,\n",
       "   20612,\n",
       "   19261,\n",
       "   16933,\n",
       "   14893],\n",
       "  'outlierCount': [916, 404, 517, 897, 441, 217, 683, 612],\n",
       "  'value': [0.01,\n",
       "   0.02,\n",
       "   0.029999999999999999,\n",
       "   0.040000000000000001,\n",
       "   0.050000000000000003,\n",
       "   0.060000000000000005,\n",
       "   0.069999999999999993,\n",
       "   0.080000000000000002]},\n",
       " 'edgeThreshold': {'inlierCount': [18658,\n",
       "   19762,\n",
       "   20555,\n",
       "   20732,\n",
       "   21330,\n",
       "   21361,\n",
       "   21826,\n",
       "   21858,\n",
       "   21786,\n",
       "   22438,\n",
       "   22178],\n",
       "  'outlierCount': [593, 683, 647, 921, 699, 897, 579, 666, 836, 253, 575],\n",
       "  'value': [5, 6, 7, 8, 9, 10, 11, 12, 13, 14, 15]},\n",
       " 'nOctaveLayers': {'inlierCount': [8302, 16661, 21361, 24726, 25245],\n",
       "  'outlierCount': [204, 151, 897, 771, 680],\n",
       "  'value': [1, 2, 3, 4, 5]},\n",
       " 'sigma': {'inlierCount': [19190,\n",
       "   20898,\n",
       "   22881,\n",
       "   24331,\n",
       "   24585,\n",
       "   23955,\n",
       "   21361,\n",
       "   19733,\n",
       "   17809,\n",
       "   16160,\n",
       "   15045],\n",
       "  'outlierCount': [781, 579, 1070, 634, 874, 429, 897, 538, 545, 586, 381],\n",
       "  'value': [1.0,\n",
       "   1.1000000000000001,\n",
       "   1.2000000000000002,\n",
       "   1.3000000000000003,\n",
       "   1.4000000000000004,\n",
       "   1.5000000000000004,\n",
       "   1.6000000000000005,\n",
       "   1.7000000000000006,\n",
       "   1.8000000000000007,\n",
       "   1.9000000000000008,\n",
       "   2.0000000000000009]}}"
      ]
     },
     "execution_count": 10,
     "metadata": {},
     "output_type": "execute_result"
    }
   ],
   "source": [
    "results"
   ]
  },
  {
   "cell_type": "markdown",
   "metadata": {},
   "source": [
    "## Wood Buffalo Images\n",
    "_Open and initialize the images_"
   ]
  },
  {
   "cell_type": "code",
   "execution_count": 13,
   "metadata": {
    "collapsed": true
   },
   "outputs": [],
   "source": [
    "imgSet = openImages(imgRange,imgDir,imageParams,'wbnp')"
   ]
  },
  {
   "cell_type": "markdown",
   "metadata": {},
   "source": [
    "_Compute the experiment._"
   ]
  },
  {
   "cell_type": "code",
   "execution_count": 14,
   "metadata": {
    "collapsed": false
   },
   "outputs": [
    {
     "name": "stdout",
     "output_type": "stream",
     "text": [
      "*********** sigma ************\n",
      "{'scale': 0.15, 'kp': 'sift', 'edgeThreshold': 10, 'sigma': 1.0, 'nOctaveLayers': 3, 'contrastThreshold': 0.04}\n",
      "*********** 1.0 ***********\n",
      "*********** 1.1 ***********\n",
      "*********** 1.2 ***********\n",
      "*********** 1.3 ***********\n",
      "*********** 1.4 ***********\n",
      "*********** 1.5 ***********\n",
      "*********** 1.6 ***********\n",
      "*********** 1.7 ***********\n",
      "*********** 1.8 ***********\n",
      "*********** 1.9 ***********\n",
      "*********** 2.0 ***********\n",
      "*********** nOctaveLayers ************\n",
      "{'scale': 0.15, 'kp': 'sift', 'edgeThreshold': 10, 'sigma': 1.6, 'nOctaveLayers': 1, 'contrastThreshold': 0.04}\n",
      "*********** 1 ***********\n",
      "*********** 2 ***********\n",
      "*********** 3 ***********\n",
      "*********** 4 ***********\n",
      "*********** 5 ***********\n",
      "*********** contrastThreshold ************\n",
      "{'scale': 0.15, 'kp': 'sift', 'edgeThreshold': 10, 'sigma': 1.6, 'nOctaveLayers': 3, 'contrastThreshold': 0.01}\n",
      "*********** 0.01 ***********\n",
      "*********** 0.02 ***********\n",
      "*********** 0.03 ***********\n",
      "*********** 0.04 ***********\n",
      "*********** 0.05 ***********\n",
      "*********** 0.06 ***********\n",
      "*********** 0.07 ***********\n",
      "*********** 0.08 ***********\n",
      "*********** edgeThreshold ************\n",
      "{'scale': 0.15, 'kp': 'sift', 'edgeThreshold': 5, 'sigma': 1.6, 'nOctaveLayers': 3, 'contrastThreshold': 0.04}\n",
      "*********** 5 ***********\n",
      "*********** 6 ***********\n",
      "*********** 7 ***********\n",
      "*********** 8 ***********\n",
      "*********** 9 ***********\n",
      "*********** 10 ***********\n",
      "*********** 11 ***********\n",
      "*********** 12 ***********\n",
      "*********** 13 ***********\n",
      "*********** 14 ***********\n",
      "*********** 15 ***********\n"
     ]
    },
    {
     "data": {
      "text/plain": [
       "{'contrastThreshold': 0.04,\n",
       " 'edgeThreshold': 10,\n",
       " 'kp': 'sift',\n",
       " 'nOctaveLayers': 3,\n",
       " 'scale': 0.15,\n",
       " 'sigma': 1.6}"
      ]
     },
     "execution_count": 14,
     "metadata": {},
     "output_type": "execute_result"
    }
   ],
   "source": [
    "results = computeExperiment(imgSet,params,imageParams)\n",
    "imageParams"
   ]
  },
  {
   "cell_type": "markdown",
   "metadata": {},
   "source": [
    "_Plot Results_"
   ]
  },
  {
   "cell_type": "code",
   "execution_count": 15,
   "metadata": {
    "collapsed": false
   },
   "outputs": [
    {
     "data": {
      "image/png": "[encoded data removed]",
      "text/plain": [
       "<matplotlib.figure.Figure at 0x7f22dde97090>"
      ]
     },
     "metadata": {},
     "output_type": "display_data"
    }
   ],
   "source": [
    "plotResults(results)"
   ]
  },
  {
   "cell_type": "markdown",
   "metadata": {},
   "source": [
    "_Results_"
   ]
  },
  {
   "cell_type": "code",
   "execution_count": 16,
   "metadata": {
    "collapsed": false
   },
   "outputs": [
    {
     "data": {
      "text/plain": [
       "{'contrastThreshold': {'inlierCount': [1859,\n",
       "   1734,\n",
       "   1631,\n",
       "   1439,\n",
       "   1196,\n",
       "   958,\n",
       "   738,\n",
       "   583],\n",
       "  'outlierCount': [207, 210, 143, 162, 170, 154, 105, 72],\n",
       "  'value': [0.01,\n",
       "   0.02,\n",
       "   0.029999999999999999,\n",
       "   0.040000000000000001,\n",
       "   0.050000000000000003,\n",
       "   0.060000000000000005,\n",
       "   0.069999999999999993,\n",
       "   0.080000000000000002]},\n",
       " 'edgeThreshold': {'inlierCount': [1305,\n",
       "   1346,\n",
       "   1363,\n",
       "   1338,\n",
       "   1429,\n",
       "   1439,\n",
       "   1442,\n",
       "   1452,\n",
       "   1452,\n",
       "   1455,\n",
       "   1462],\n",
       "  'outlierCount': [119, 168, 174, 224, 153, 162, 172, 166, 176, 181, 176],\n",
       "  'value': [5, 6, 7, 8, 9, 10, 11, 12, 13, 14, 15]},\n",
       " 'nOctaveLayers': {'inlierCount': [779, 1140, 1439, 1525, 1502],\n",
       "  'outlierCount': [91, 146, 162, 200, 247],\n",
       "  'value': [1, 2, 3, 4, 5]},\n",
       " 'sigma': {'inlierCount': [1510,\n",
       "   1371,\n",
       "   1401,\n",
       "   1480,\n",
       "   1457,\n",
       "   1394,\n",
       "   1439,\n",
       "   1360,\n",
       "   1300,\n",
       "   1241,\n",
       "   1232],\n",
       "  'outlierCount': [421, 321, 284, 255, 182, 190, 162, 127, 143, 158, 131],\n",
       "  'value': [1.0,\n",
       "   1.1000000000000001,\n",
       "   1.2000000000000002,\n",
       "   1.3000000000000003,\n",
       "   1.4000000000000004,\n",
       "   1.5000000000000004,\n",
       "   1.6000000000000005,\n",
       "   1.7000000000000006,\n",
       "   1.8000000000000007,\n",
       "   1.9000000000000008,\n",
       "   2.0000000000000009]}}"
      ]
     },
     "execution_count": 16,
     "metadata": {},
     "output_type": "execute_result"
    }
   ],
   "source": [
    "results"
   ]
  },
  {
   "cell_type": "markdown",
   "metadata": {},
   "source": [
    "## Office Images\n",
    "_Open and initialize the images_"
   ]
  },
  {
   "cell_type": "code",
   "execution_count": 24,
   "metadata": {
    "collapsed": false
   },
   "outputs": [],
   "source": [
    "imageParams['scale']=1\n",
    "imgSet = openImages(imgRange,imgDir,imageParams,'desk')"
   ]
  },
  {
   "cell_type": "code",
   "execution_count": 25,
   "metadata": {
    "collapsed": true
   },
   "outputs": [],
   "source": [
    "imgSet[0].showImage()"
   ]
  },
  {
   "cell_type": "markdown",
   "metadata": {},
   "source": [
    "_Compute Experiment_"
   ]
  },
  {
   "cell_type": "code",
   "execution_count": 26,
   "metadata": {
    "collapsed": false
   },
   "outputs": [
    {
     "name": "stdout",
     "output_type": "stream",
     "text": [
      "*********** sigma ************\n",
      "{'scale': 1, 'kp': 'sift', 'edgeThreshold': 10, 'sigma': 1.0, 'nOctaveLayers': 3, 'contrastThreshold': 0.04}\n",
      "*********** 1.0 ***********\n",
      "*********** 1.1 ***********\n",
      "*********** 1.2 ***********\n",
      "*********** 1.3 ***********\n",
      "*********** 1.4 ***********\n",
      "*********** 1.5 ***********\n",
      "*********** 1.6 ***********\n",
      "*********** 1.7 ***********\n",
      "*********** 1.8 ***********\n",
      "*********** 1.9 ***********\n",
      "*********** 2.0 ***********\n",
      "*********** nOctaveLayers ************\n",
      "{'scale': 1, 'kp': 'sift', 'edgeThreshold': 10, 'sigma': 1.6, 'nOctaveLayers': 1, 'contrastThreshold': 0.04}\n",
      "*********** 1 ***********\n",
      "*********** 2 ***********\n",
      "*********** 3 ***********\n",
      "*********** 4 ***********\n",
      "*********** 5 ***********\n",
      "*********** contrastThreshold ************\n",
      "{'scale': 1, 'kp': 'sift', 'edgeThreshold': 10, 'sigma': 1.6, 'nOctaveLayers': 3, 'contrastThreshold': 0.01}\n",
      "*********** 0.01 ***********\n",
      "*********** 0.02 ***********\n",
      "*********** 0.03 ***********\n",
      "*********** 0.04 ***********\n",
      "*********** 0.05 ***********\n",
      "*********** 0.06 ***********\n",
      "*********** 0.07 ***********\n",
      "*********** 0.08 ***********\n",
      "*********** edgeThreshold ************\n",
      "{'scale': 1, 'kp': 'sift', 'edgeThreshold': 5, 'sigma': 1.6, 'nOctaveLayers': 3, 'contrastThreshold': 0.04}\n",
      "*********** 5 ***********\n",
      "*********** 6 ***********\n",
      "*********** 7 ***********\n",
      "*********** 8 ***********\n",
      "*********** 9 ***********\n",
      "*********** 10 ***********\n",
      "*********** 11 ***********\n",
      "*********** 12 ***********\n",
      "*********** 13 ***********\n",
      "*********** 14 ***********\n",
      "*********** 15 ***********\n"
     ]
    },
    {
     "data": {
      "text/plain": [
       "{'contrastThreshold': 0.04,\n",
       " 'edgeThreshold': 10,\n",
       " 'kp': 'sift',\n",
       " 'nOctaveLayers': 3,\n",
       " 'scale': 1,\n",
       " 'sigma': 1.6}"
      ]
     },
     "execution_count": 26,
     "metadata": {},
     "output_type": "execute_result"
    }
   ],
   "source": [
    "results = computeExperiment(imgSet,params,imageParams)\n",
    "imageParams"
   ]
  },
  {
   "cell_type": "code",
   "execution_count": 27,
   "metadata": {
    "collapsed": false
   },
   "outputs": [
    {
     "data": {
      "image/png": "[encoded data removed]",
      "text/plain": [
       "<matplotlib.figure.Figure at 0x7f22e3b34e10>"
      ]
     },
     "metadata": {},
     "output_type": "display_data"
    }
   ],
   "source": [
    "plotResults(results)"
   ]
  },
  {
   "cell_type": "code",
   "execution_count": 28,
   "metadata": {
    "collapsed": false
   },
   "outputs": [
    {
     "data": {
      "text/plain": [
       "{'contrastThreshold': {'inlierCount': [2196,\n",
       "   2055,\n",
       "   1883,\n",
       "   1735,\n",
       "   1570,\n",
       "   1418,\n",
       "   1260,\n",
       "   1108],\n",
       "  'outlierCount': [482, 397, 358, 305, 278, 251, 232, 188],\n",
       "  'value': [0.01,\n",
       "   0.02,\n",
       "   0.029999999999999999,\n",
       "   0.040000000000000001,\n",
       "   0.050000000000000003,\n",
       "   0.060000000000000005,\n",
       "   0.069999999999999993,\n",
       "   0.080000000000000002]},\n",
       " 'edgeThreshold': {'inlierCount': [1281,\n",
       "   1417,\n",
       "   1563,\n",
       "   1619,\n",
       "   1664,\n",
       "   1735,\n",
       "   1771,\n",
       "   1817,\n",
       "   1847,\n",
       "   1870,\n",
       "   1929],\n",
       "  'outlierCount': [209, 247, 248, 276, 307, 305, 330, 347, 349, 364, 343],\n",
       "  'value': [5, 6, 7, 8, 9, 10, 11, 12, 13, 14, 15]},\n",
       " 'nOctaveLayers': {'inlierCount': [1089, 1597, 1735, 1877, 1798],\n",
       "  'outlierCount': [216, 283, 305, 325, 330],\n",
       "  'value': [1, 2, 3, 4, 5]},\n",
       " 'sigma': {'inlierCount': [1705,\n",
       "   1766,\n",
       "   1757,\n",
       "   1737,\n",
       "   1791,\n",
       "   1770,\n",
       "   1735,\n",
       "   1760,\n",
       "   1762,\n",
       "   1671,\n",
       "   1688],\n",
       "  'outlierCount': [383, 382, 384, 358, 315, 322, 305, 305, 271, 275, 261],\n",
       "  'value': [1.0,\n",
       "   1.1000000000000001,\n",
       "   1.2000000000000002,\n",
       "   1.3000000000000003,\n",
       "   1.4000000000000004,\n",
       "   1.5000000000000004,\n",
       "   1.6000000000000005,\n",
       "   1.7000000000000006,\n",
       "   1.8000000000000007,\n",
       "   1.9000000000000008,\n",
       "   2.0000000000000009]}}"
      ]
     },
     "execution_count": 28,
     "metadata": {},
     "output_type": "execute_result"
    }
   ],
   "source": [
    "results"
   ]
  },
  {
   "cell_type": "code",
   "execution_count": null,
   "metadata": {
    "collapsed": true
   },
   "outputs": [],
   "source": []
  }
 ],
 "metadata": {
  "kernelspec": {
   "display_name": "Python 2",
   "language": "python",
   "name": "python2"
  },
  "language_info": {
   "codemirror_mode": {
    "name": "ipython",
    "version": 2
   },
   "file_extension": ".py",
   "mimetype": "text/x-python",
   "name": "python",
   "nbconvert_exporter": "python",
   "pygments_lexer": "ipython2",
   "version": "2.7.6"
  }
 },
 "nbformat": 4,
 "nbformat_minor": 0
}
